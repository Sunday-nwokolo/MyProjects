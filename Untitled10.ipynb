{
 "cells": [
  {
   "cell_type": "code",
   "execution_count": 1,
   "id": "8e6f1470-b7ed-4f75-9a02-4e50d9b8d583",
   "metadata": {},
   "outputs": [
    {
     "name": "stdout",
     "output_type": "stream",
     "text": [
      "Collecting cma\n",
      "  Using cached cma-3.3.0-py3-none-any.whl (260 kB)\n",
      "Requirement already satisfied: numpy in c:\\users\\snn23kfl\\appdata\\local\\anaconda3\\envs\\cil\\lib\\site-packages (from cma) (1.24.4)\n",
      "Installing collected packages: cma\n",
      "Successfully installed cma-3.3.0\n"
     ]
    }
   ],
   "source": [
    "!pip install cma\n"
   ]
  },
  {
   "cell_type": "code",
   "execution_count": null,
   "id": "a98fbd87-3d35-46e1-ab95-26d4ee94c23c",
   "metadata": {},
   "outputs": [],
   "source": []
  }
 ],
 "metadata": {
  "kernelspec": {
   "display_name": "Python 3 (ipykernel)",
   "language": "python",
   "name": "python3"
  },
  "language_info": {
   "codemirror_mode": {
    "name": "ipython",
    "version": 3
   },
   "file_extension": ".py",
   "mimetype": "text/x-python",
   "name": "python",
   "nbconvert_exporter": "python",
   "pygments_lexer": "ipython3",
   "version": "3.8.11"
  }
 },
 "nbformat": 4,
 "nbformat_minor": 5
}
