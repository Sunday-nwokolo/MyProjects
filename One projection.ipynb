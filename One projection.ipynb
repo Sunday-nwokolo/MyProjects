{
 "cells": [
  {
   "cell_type": "code",
   "execution_count": null,
   "id": "c9040fef",
   "metadata": {},
   "outputs": [],
   "source": [
    "import os, sys, time, math, shutil\n",
    "from natsort import natsorted\n",
    "\n",
    "import numpy as np\n",
    "import cv2\n",
    "import matplotlib.pyplot as plt\n",
    "import cma\n",
    "import glob\n",
    "from tifffile import imwrite\n",
    "import json \n",
    "\n",
    "from gvxrPython3 import gvxr\n",
    "from gvxrPython3 import json2gvxr\n",
    "\n",
    "import utils\n",
    "from utils import average_images, flatField, getReference, displayResult, fitnessMSE, fitnessMAE, fitnessSSIM, fitnessZNCC, getXrayImage\n",
    "from utils import bbox, plot_directory, applyTransformation, inverseX, rescaleX"
   ]
  },
  {
   "cell_type": "code",
   "execution_count": null,
   "id": "4a70d4ae-a06e-42fc-9775-81439ed2a4eb",
   "metadata": {},
   "outputs": [],
   "source": [
    "utils.use_padding = False\n",
    "utils.pad_width = 50\n",
    "angular_step_in_deg = 3.6"
   ]
  },
  {
   "cell_type": "code",
   "execution_count": null,
   "id": "31f57260",
   "metadata": {},
   "outputs": [],
   "source": [
    "# data_path = \"C:/Users/user/phd/Dataoff/\"\n",
    "# data_path = \"C:/Users/user/phd/26SepImages/\"\n",
    "# data_path = \"C:/Users/snn23kfl/project/\"\n",
    "#data_path = \"4thOCtober_image/\"\n",
    "#data_path = \"4thCotober_imageAngle/\"\n",
    "data_path = \"25OctoberData/\"\n",
    "#data_path = \"15NovemberData/\""
   ]
  },
  {
   "cell_type": "code",
   "execution_count": null,
   "id": "568bb24c",
   "metadata": {},
   "outputs": [],
   "source": [
    "current_folder = str(globals()['_dh'][0])\n",
    "print(current_folder)\n",
    "\n",
    "json_file = current_folder + \"/simulation2.json\""
   ]
  },
  {
   "cell_type": "code",
   "execution_count": null,
   "id": "25962f83-6415-45ad-9280-620b4fb34e6c",
   "metadata": {},
   "outputs": [],
   "source": [
    "# dirs = [\n",
    "#     current_folder + \"/\" + data_path + \"/plot1\",\n",
    "#     current_folder + \"/\" + data_path + \"/plot2\"\n",
    "# ]\n",
    "\n",
    "# for directory in dirs:\n",
    "#     if os.path.isdir(directory):\n",
    "#         shutil.rmtree(directory)\n",
    "\n",
    "#     if not os.path.exists(directory):\n",
    "#         os.mkdir(directory)"
   ]
  },
  {
   "cell_type": "code",
   "execution_count": null,
   "id": "3a48996e",
   "metadata": {},
   "outputs": [],
   "source": [
    "#path for my recently acquired images stored in PhD file\n",
    "\n",
    "\n",
    "\n",
    "dark_field_paths = glob.glob(data_path + '/darkfd/darkfd_*.tiff')\n",
    "dark_field_paths = natsorted(dark_field_paths, key=lambda y: y.lower())\n",
    "\n",
    "white_field_paths = glob.glob(data_path + '/whitefd/whitefd_*.tiff')\n",
    "white_field_paths = natsorted(white_field_paths, key=lambda y: y.lower())\n",
    "\n",
    "raw_image_paths = glob.glob(data_path + '/raw_images/raw_image_*.tiff')\n",
    "raw_image_paths = natsorted(raw_image_paths, key=lambda y: y.lower())\n",
    "\n",
    "if len(raw_image_paths) == 0:\n",
    "    raw_image_paths = glob.glob(data_path + '/rawimages/raw_images_*.jpg')\n",
    "    raw_image_paths = natsorted(raw_image_paths, key=lambda y: y.lower())"
   ]
  },
  {
   "cell_type": "code",
   "execution_count": null,
   "id": "4fde7743",
   "metadata": {},
   "outputs": [],
   "source": [
    "#Average the dark field and white field images\n",
    "I_dark = average_images(dark_field_paths)\n",
    "I_white = average_images(white_field_paths)"
   ]
  },
  {
   "cell_type": "code",
   "execution_count": null,
   "id": "10145fec",
   "metadata": {},
   "outputs": [],
   "source": [
    "I_raw = []\n",
    "angles_in_deg = []\n",
    "for i, fname in enumerate(raw_image_paths):\n",
    "\n",
    "    angle = angular_step_in_deg * i\n",
    "\n",
    "    if angle < 360.000001:\n",
    "        angles_in_deg.append(angular_step_in_deg * i)\n",
    "        I_raw.append(cv2.imread(fname, \n",
    "                               cv2.IMREAD_GRAYSCALE))\n",
    "    \n",
    "        if utils.use_padding:\n",
    "            median_value = np.median(I_raw[-1])\n",
    "            I_raw[-1] = np.pad(I_raw[-1], (pad_width, pad_width), 'constant', constant_values=(median_value, median_value))\n",
    "\n",
    "I_raw = np.array(I_raw, dtype=np.single)\n",
    "# I_raw = average_images(raw_image_paths)\n",
    "\n",
    "# for image in I_raw:\n",
    "#     image /= np.mean(image[:,0:200])\n",
    "\n",
    "# I_white /= np.mean(I_white[:,0:200])\n",
    "# I_dark /= np.mean(I_dark[:,0:200])\n",
    "\n",
    "I_flat1 = flatField(I_raw, I_white, I_dark)\n",
    "I_flat2 = flatField(I_raw, I_white, np.zeros(I_dark.shape))\n",
    "\n",
    "# Clamp pixel values\n",
    "I_flat1[I_flat1<0] = 0\n",
    "I_flat2[I_flat2<0] = 0\n",
    "\n",
    "I_flat1[I_flat1>1] = 1\n",
    "I_flat2[I_flat2>1] = 1"
   ]
  },
  {
   "cell_type": "code",
   "execution_count": null,
   "id": "9be20d0b",
   "metadata": {},
   "outputs": [],
   "source": [
    "plt.figure(figsize=(14,10))\n",
    "plt.subplot(2, 5, 1)\n",
    "plt.title(\"Image with \\nlight off\")\n",
    "plt.imshow(I_dark, cmap=\"gray\", vmin=0, vmax=255)\n",
    "plt.colorbar()\n",
    "\n",
    "plt.subplot(2, 5, 2)\n",
    "plt.title(\"Image with \\nlight on\")\n",
    "plt.imshow(I_white, cmap=\"gray\", vmin=0, vmax=255)\n",
    "plt.colorbar()\n",
    "\n",
    "if len(I_raw.shape) == 2:\n",
    "\n",
    "    plt.subplot(2, 5, 3)\n",
    "    plt.imshow(I_raw, cmap=\"gray\", vmin=0, vmax=255)\n",
    "    plt.colorbar()\n",
    "\n",
    "    plt.subplot(2, 5, 4)\n",
    "    plt.imshow(I_flat1, cmap=\"gray\", vmin=0, vmax=1)\n",
    "    plt.colorbar()\n",
    "    \n",
    "    plt.subplot(2, 5, 5)\n",
    "    plt.imshow(I_flat2, cmap=\"gray\", vmin=0, vmax=1)\n",
    "    plt.colorbar()\n",
    "else:\n",
    "    plt.subplot(2, 5, 3)\n",
    "    plt.imshow(I_raw[I_raw.shape[0] //2], cmap=\"gray\", vmin=0, vmax=255)\n",
    "    plt.colorbar()\n",
    "\n",
    "    plt.subplot(2, 5, 4)\n",
    "    plt.title(\"Using image with \\nlight off as dark field\")\n",
    "    plt.imshow(I_flat1[I_raw.shape[0] //2], cmap=\"gray\", vmin=0, vmax=1)\n",
    "    plt.colorbar()\n",
    "\n",
    "    plt.subplot(2, 5, 5)\n",
    "    plt.title(\"Using np.zeros as\\n dark field\")\n",
    "    plt.imshow(I_flat2[I_raw.shape[0] //2], cmap=\"gray\", vmin=0, vmax=1)\n",
    "    plt.colorbar()\n"
   ]
  },
  {
   "cell_type": "code",
   "execution_count": null,
   "id": "fc284e64",
   "metadata": {},
   "outputs": [],
   "source": [
    "I_flat = I_flat2"
   ]
  },
  {
   "cell_type": "code",
   "execution_count": null,
   "id": "49cb6743-f740-4465-a3a7-7df30f274861",
   "metadata": {},
   "outputs": [],
   "source": [
    "if not os.path.exists(data_path + \"/flat_images\"):\n",
    "    os.mkdir(data_path + \"/flat_images\")\n",
    "\n",
    "for i, img in enumerate(I_flat):\n",
    "    imwrite(data_path + \"/flat_images/projection_\" + str(i).zfill(4) + \".tif\", img)"
   ]
  },
  {
   "cell_type": "code",
   "execution_count": null,
   "id": "c968eedc",
   "metadata": {},
   "outputs": [],
   "source": [
    "#sod = 43\n",
    "#sod =47\n",
    "#sod = 48\n",
    "#sdd = 61\n",
    "#for rabbit\n",
    "#sod=41\n",
    "#sdd=51\n",
    "sod=104\n",
    "sdd=130\n",
    "#sod = 25\n",
    "#sdd=61"
   ]
  },
  {
   "cell_type": "code",
   "execution_count": null,
   "id": "c323a0ed-a356-4a19-bffa-68ee719a862e",
   "metadata": {},
   "outputs": [],
   "source": [
    "utils.data_range = [[-200, -1000, -200, # source position\n",
    "                   -200,    0, -200,  # detector position\n",
    "                   -200, -200,  # object position on turntable\n",
    "                   -180, -180], # object orientation\n",
    "                  \n",
    "                  [ 200,    0, 200,   # source position\n",
    "                    200, 1000, 200,   # detector position\n",
    "                    200,  200,   # object position on turntable\n",
    "                    180,  180]]; # object orientation"
   ]
  },
  {
   "cell_type": "code",
   "execution_count": null,
   "id": "368d59fd",
   "metadata": {},
   "outputs": [],
   "source": [
    "Ti90Al10 = 5.68\n",
    "x_src = 0\n",
    "y_src = -sod\n",
    "z_src = 0\n",
    "\n",
    "x_det = 0\n",
    "y_det = (sdd - sod)\n",
    "z_det = 0\n",
    "\n",
    "x_rot = 0\n",
    "y_rot = 0\n",
    "z_rot = 0\n",
    "\n",
    "x_obj = 0\n",
    "y_obj = 0\n",
    "z_obj = 0\n",
    "\n",
    "alpha_x =  90 \n",
    "alpha_y = -90\n",
    "alpha_z =   0\n",
    "\n",
    "x_default = [\n",
    "    x_src,\n",
    "    y_src,\n",
    "    z_src,\n",
    "\n",
    "    x_det,\n",
    "    y_det,\n",
    "    z_det,\n",
    "\n",
    "    x_obj,\n",
    "    y_obj,\n",
    "    \n",
    "    alpha_x,\n",
    "    alpha_y,\n",
    "]\n",
    "\n",
    "x_default = inverseX(x_default)"
   ]
  },
  {
   "cell_type": "code",
   "execution_count": null,
   "id": "06c1c303",
   "metadata": {},
   "outputs": [],
   "source": [
    "# Initialise gVXR using our JSON file\n",
    "json2gvxr.initGVXR(json_file, \"OPENGL\", 3, 2)"
   ]
  },
  {
   "cell_type": "code",
   "execution_count": null,
   "id": "8882ee39",
   "metadata": {},
   "outputs": [],
   "source": [
    "# Load our source properties\n",
    "json2gvxr.initSourceGeometry()\n",
    "json2gvxr.initSpectrum(verbose=0)\n",
    "\n",
    "gvxr.setSourcePosition(x_src, y_src, z_src, \"mm\")"
   ]
  },
  {
   "cell_type": "code",
   "execution_count": null,
   "id": "c71d7d00",
   "metadata": {},
   "outputs": [],
   "source": [
    "# Load our detector\n",
    "json2gvxr.initDetector()\n",
    "    # \"NumberOfPixels\": [2880, 2880],\n",
    "\n",
    "gvxr.setDetectorPosition(x_det, y_det, z_det, \"mm\")\n",
    "\n",
    "if utils.use_padding:\n",
    "    number_of_pixels = gvxr.getDetectorNumberOfPixels();\n",
    "    gvxr.setDetectorNumberOfPixels(number_of_pixels[0] + 2 * pad_width, number_of_pixels[1] + 2 * pad_width);"
   ]
  },
  {
   "cell_type": "code",
   "execution_count": null,
   "id": "3c1961ff",
   "metadata": {},
   "outputs": [],
   "source": [
    "# Load our samples\n",
    "json2gvxr.initSamples(json_file, verbose=0)\n",
    "\n",
    "gvxr.setDensity(\"cuboid\", Ti90Al10, \"g/cm3\")"
   ]
  },
  {
   "cell_type": "code",
   "execution_count": null,
   "id": "1242ed56-8369-4fa9-9d0d-0b429d46ca04",
   "metadata": {},
   "outputs": [],
   "source": [
    "utils.default_up_vector    = gvxr.getDetectorUpVector();\n",
    "utils.default_right_vector = gvxr.getDetectorRightVector();"
   ]
  },
  {
   "cell_type": "code",
   "execution_count": null,
   "id": "8b806a9e-9289-45aa-a777-434d903eebe7",
   "metadata": {},
   "outputs": [],
   "source": [
    "gvxr.computeXRayImage();\n",
    "gvxr.displayScene()\n",
    "gvxr.setZoom(400)\n",
    "gvxr.setSceneRotationMatrix([0.6925417184829712, 0.010556249879300594, -0.7213009595870972, 0.0, -0.7204560041427612, 0.060654886066913605, -0.6908417344093323, 0.0, 0.036457497626543045, 0.998101532459259, 0.04961010813713074, 0.0, 0.0, 0.0, 0.0, 1.0])"
   ]
  },
  {
   "cell_type": "code",
   "execution_count": null,
   "id": "8f7ac78e",
   "metadata": {},
   "outputs": [],
   "source": [
    "# Let's get an x-ray image\n",
    "fig = plt.figure()\n",
    "plt.imshow(gvxr.computeXRayImage(), cmap=\"gray\")\n",
    "plt.colorbar()\n",
    "plt.show()"
   ]
  },
  {
   "cell_type": "code",
   "execution_count": null,
   "id": "6232578c-f7d5-46e9-9bd4-1165d8df6af5",
   "metadata": {},
   "outputs": [],
   "source": [
    "utils.ref_image, utils.selected_angles, utils.indices = getReference(I_flat, angles_in_deg, 1)"
   ]
  },
  {
   "cell_type": "code",
   "execution_count": null,
   "id": "9179c673",
   "metadata": {
    "scrolled": true
   },
   "outputs": [],
   "source": [
    "displayResult(x_default)"
   ]
  },
  {
   "cell_type": "code",
   "execution_count": null,
   "id": "02952e6b-d45d-4e61-8bb5-a3776a27968f",
   "metadata": {},
   "outputs": [],
   "source": [
    "utils.figsize = (15, 12)\n",
    "utils.ref_image, utils.selected_angles, utils.indices = getReference(I_flat, angles_in_deg, 4)"
   ]
  },
  {
   "cell_type": "code",
   "execution_count": null,
   "id": "8b807ca7-2e8f-4059-9836-d37bacb9f50c",
   "metadata": {},
   "outputs": [],
   "source": [
    "opts = cma.CMAOptions()\n",
    "opts.set('tolfun', 1e-4);\n",
    "opts['tolx'] = 1e-4;\n",
    "opts['bounds'] = [10*[-1], 10*[1]];\n",
    "\n",
    "x_fname       = current_folder + \"/\" + data_path + \"/x_best1.dat\"\n",
    "fitness_fname = current_folder + \"/\" + data_path + \"/fitness_set1.npz\"\n",
    "utils.plot_directory = current_folder + \"/\" + data_path + \"/plot1\"\n",
    "\n",
    "if not os.path.exists(x_fname) or not os.path.exists(fitness_fname):\n",
    "    \n",
    "    if os.path.isdir(utils.plot_directory):\n",
    "        shutil.rmtree(utils.plot_directory)\n",
    "\n",
    "    if not os.path.exists(utils.plot_directory):\n",
    "        os.mkdir(utils.plot_directory)    \n",
    "\n",
    "    utils.best_fitness = sys.float_info.max\n",
    "    utils.fitness_set = []\n",
    "    utils.counter = 1\n",
    "\n",
    "    start_time = time.time();\n",
    "    es = cma.CMAEvolutionStrategy(x_default, 0.1, opts);\n",
    "    es.optimize(fitnessMSE);\n",
    "    elapsed_time = time.time() - start_time\n",
    "\n",
    "    x_best1 = es.result.xbest\n",
    "    np.savetxt(x_fname, es.result.xbest)\n",
    "\n",
    "    utils.fitness_set = np.array(utils.fitness_set)\n",
    "    np.savez(fitness_fname, utils.fitness_set)\n",
    "\n",
    "    \n",
    "else:\n",
    "    x_best1 = np.loadtxt(x_fname)\n",
    "    data = np.load(fitness_fname)\n",
    "    lst = data.files\n",
    "    utils.fitness_set = data[lst[0]]\n",
    "    \n",
    "x_current = rescaleX(x_best1)"
   ]
  },
  {
   "cell_type": "code",
   "execution_count": null,
   "id": "e84d4211-5c3b-449f-a0a4-57a5df5f93cb",
   "metadata": {},
   "outputs": [],
   "source": [
    "plt.plot(utils.fitness_set[:,0], utils.fitness_set[:,1])\n",
    "plt.xlabel(\"Number of fitness evaluations\")\n",
    "plt.ylabel(\"Fitness value (MSE)\")"
   ]
  },
  {
   "cell_type": "code",
   "execution_count": null,
   "id": "1db2dfea-1770-48c6-8e3b-1dc3cabb48c6",
   "metadata": {
    "scrolled": true
   },
   "outputs": [],
   "source": [
    "print(rescaleX(x_best1))"
   ]
  },
  {
   "cell_type": "code",
   "execution_count": null,
   "id": "8cf71750-4768-4e06-afcb-e6ec71f70aff",
   "metadata": {},
   "outputs": [],
   "source": [
    "displayResult(x_best1, figsize=(15, 12))"
   ]
  },
  {
   "cell_type": "code",
   "execution_count": null,
   "id": "1cf8c25d-581d-4d73-a348-36a3ff22551e",
   "metadata": {},
   "outputs": [],
   "source": [
    "opts.set('tolfun', 1e-4);\n",
    "opts['tolx'] = 1e-4;\n",
    "opts['bounds'] = [12*[-1], 12*[1]];\n",
    "\n",
    "x_fname       = current_folder + \"/\" + data_path + \"/x_best2.dat\"\n",
    "fitness_fname = current_folder + \"/\" + data_path + \"/fitness_set2.npz\"\n",
    "utils.plot_directory = current_folder + \"/\" + data_path + \"/plot2\"\n",
    "\n",
    "utils.data_range = [[x_current[ 0] - 50, x_current[ 1] - 50, x_current[ 2] - 50,  # source position\n",
    "                   x_current[ 3] - 50, x_current[ 4] - 50, x_current[ 5] - 50,  # detector position\n",
    "                   x_current[ 6] - 50, x_current[7] - 50,   # object position on turntable\n",
    "                   x_current[8] - 50, x_current[9] - 50,                      # object orientation\n",
    "                   -10, -10],                                                   # detector orientation\n",
    "                  \n",
    "                  [x_current[ 0] + 50, x_current[ 1] + 50, x_current[ 2] + 50,  # source position\n",
    "                   x_current[ 3] + 50, x_current[ 4] + 50, x_current[ 5] + 50,  # detector position\n",
    "                   x_current[ 6] + 50, x_current[7] + 50,   # object position on turntable\n",
    "                   x_current[8] + 50, x_current[9] + 50,                      # object orientation\n",
    "                   10, 10]]                                                     # detector orientation                  \n",
    "\n",
    "if not os.path.exists(x_fname) or not os.path.exists(fitness_fname):\n",
    "    \n",
    "    if os.path.isdir(utils.plot_directory):\n",
    "        shutil.rmtree(utils.plot_directory)\n",
    "\n",
    "    if not os.path.exists(utils.plot_directory):\n",
    "        os.mkdir(utils.plot_directory)    \n",
    "    \n",
    "    utils.best_fitness = sys.float_info.max\n",
    "    utils.fitness_set = []\n",
    "    utils.counter = 1\n",
    "        \n",
    "    start_time = time.time();\n",
    "    es = cma.CMAEvolutionStrategy(12*[0.0], 0.15, opts);\n",
    "    es.optimize(fitnessMSE);\n",
    "    elapsed_time = time.time() - start_time\n",
    "\n",
    "    x_best2 = es.result.xbest\n",
    "    np.savetxt(x_fname, es.result.xbest)\n",
    "\n",
    "    utils.fitness_set = np.array(utils.fitness_set)\n",
    "    np.savez(fitness_fname, utils.fitness_set)\n",
    "    \n",
    "else:\n",
    "    x_best2 = np.loadtxt(x_fname)\n",
    "    data = np.load(fitness_fname)\n",
    "    lst = data.files\n",
    "    utils.fitness_set = data[lst[0]]\n",
    "    \n",
    "x_current = rescaleX(x_best2)"
   ]
  },
  {
   "cell_type": "code",
   "execution_count": null,
   "id": "3112b7d9-73dd-4851-afd2-74efeb997e99",
   "metadata": {},
   "outputs": [],
   "source": [
    "plt.plot(utils.fitness_set[:,0], utils.fitness_set[:,1])\n",
    "plt.xlabel(\"Number of fitness evaluations\")\n",
    "plt.ylabel(\"Fitness value (MSE)\")"
   ]
  },
  {
   "cell_type": "code",
   "execution_count": null,
   "id": "0e80b112-6642-4a73-a438-a570f42560e8",
   "metadata": {
    "scrolled": true
   },
   "outputs": [],
   "source": [
    "print(x_current)"
   ]
  },
  {
   "cell_type": "code",
   "execution_count": null,
   "id": "b9021a55-0245-4a36-9305-b8fe95813167",
   "metadata": {},
   "outputs": [],
   "source": [
    "displayResult(x_best2, figsize=(15, 12))"
   ]
  },
  {
   "cell_type": "code",
   "execution_count": null,
   "id": "2192fedb-23ba-49dd-84ed-aa29690a453f",
   "metadata": {},
   "outputs": [],
   "source": [
    "def getCentreOfRotationPosition(x):\n",
    "   \n",
    "    x_rot_axis_pos = 0\n",
    "    y_rot_axis_pos = 0\n",
    "    z_rot_axis_pos = 0\n",
    "\n",
    "    return np.array([x_rot_axis_pos, y_rot_axis_pos, z_rot_axis_pos])\n",
    "\n",
    "    # Global coordinates\n",
    "    return np.array([(utils.bbox[0] + utils.bbox[3]) / 2,\n",
    "                    (utils.bbox[1] + utils.bbox[4]) / 2,\n",
    "                    (utils.bbox[2] + utils.bbox[5]) / 2])\n",
    "\n",
    "def getSourcePosition(x):\n",
    "    return np.array([x[0], x[1], x[2]])\n",
    "    \n",
    "def getDetectorPosition(x):\n",
    "    return np.array([x[3], x[4], x[5]])\n",
    "    \n",
    "def getRotationAxisPosition(x):\n",
    "    x_rot_axis_pos = x[6]\n",
    "    y_rot_axis_pos = x[7]\n",
    "    z_rot_axis_pos = x[8]\n",
    "\n",
    "def printX(x):\n",
    "\n",
    "\n",
    "\n",
    "    x_obj = x[6]\n",
    "    y_obj = x[7]\n",
    "    z_obj = 0\n",
    "    \n",
    "    alpha_x = x[8]\n",
    "    alpha_y = x[9]\n",
    "    # alpha_z = x[14]\n",
    "\n",
    "    print(\"Source position:\", getSourcePosition(x), \"mm\")\n",
    "    print(\"Detector position:\", getDetectorPosition(x), \"mm\")\n",
    "    print(\"Source-Detector Distance (SDD):\", math.sqrt(math.pow(x_src - x_det, 2) + math.pow(y_src - y_det, 2) + math.pow(z_src - z_det, 2)), \"mm\")\n",
    "    print(\"Object position:\", x_obj, y_obj, z_obj, \"mm\")\n",
    "    print(\"Centre of rotation position:\", getCentreOfRotationPosition(x), \"mm\")\n",
    "    print(\"Tilt around\", utils.default_up_vector, \":\", x[10], \"degrees\")\n",
    "    print(\"Tilt around\", utils.default_right_vector, \":\", x[11], \"degrees\")\n",
    "\n",
    "printX(x_current)"
   ]
  },
  {
   "cell_type": "code",
   "execution_count": null,
   "id": "42a198a2-4b62-403e-a3a3-2e49c449c1b7",
   "metadata": {},
   "outputs": [],
   "source": [
    "applyTransformation(x_best2)"
   ]
  },
  {
   "cell_type": "code",
   "execution_count": null,
   "id": "d13ecce6-b477-4418-8fae-d9869876ea06",
   "metadata": {},
   "outputs": [],
   "source": [
    "def saveJSON(x, fname, image_path):\n",
    "\n",
    "    x_rot_axis_pos = 0\n",
    "    y_rot_axis_pos = 0\n",
    "    z_rot_axis_pos = 0\n",
    "\n",
    "    x_obj = x[6]\n",
    "    y_obj = x[7]\n",
    "    z_obj = 0\n",
    "\n",
    "    alpha_x = x[8]\n",
    "    alpha_y = x[9]\n",
    "    # alpha_z = x[14]\n",
    "\n",
    "    dictionary = {}\n",
    "\n",
    "    dictionary[\"WindowSize\"] = [800, 600]\n",
    "    dictionary[\"Detector\"] = {}\n",
    "    dictionary[\"Detector\"][\"Position\"] = [\n",
    "        getDetectorPosition(x)[0],\n",
    "        getDetectorPosition(x)[1],\n",
    "        getDetectorPosition(x)[2],\n",
    "        \"mm\"]\n",
    "    dictionary[\"Detector\"][\"UpVector\"] = gvxr.getDetectorUpVector()\n",
    "    dictionary[\"Detector\"][\"RightVector\"] = gvxr.getDetectorRightVector()\n",
    "    dictionary[\"Detector\"][\"NumberOfPixels\"] = gvxr.getDetectorNumberOfPixels()\n",
    "    dictionary[\"Detector\"][\"Size\"] = [\n",
    "        gvxr.getDetectorSize(\"mm\")[0],\n",
    "        gvxr.getDetectorSize(\"mm\")[1],\n",
    "        \"mm\"]\n",
    "\n",
    "    dictionary[\"Source\"] = {}\n",
    "    dictionary[\"Source\"][\"Position\"] = [\n",
    "        getSourcePosition(x)[0],\n",
    "        getSourcePosition(x)[1],\n",
    "        getSourcePosition(x)[2],\n",
    "        \"mm\"]\n",
    "    dictionary[\"Source\"][\"Shape\"] = \"PointSource\"\n",
    "    dictionary[\"Source\"][\"Beam\"] = []\n",
    "    \n",
    "    for energy, count in zip(gvxr.getEnergyBins(\"keV\"), gvxr.getPhotonCountEnergyBins()):\n",
    "        dictionary[\"Source\"][\"Beam\"].append({})\n",
    "        dictionary[\"Source\"][\"Beam\"][-1][\"Energy\"] = energy\n",
    "        dictionary[\"Source\"][\"Beam\"][-1][\"Unit\"] = \"keV\"\n",
    "        dictionary[\"Source\"][\"Beam\"][-1][\"PhotonCount\"] = count\n",
    "\n",
    "    dictionary[\"Samples\"] = []\n",
    "    \n",
    "    for mesh in json2gvxr.params[\"Samples\"]:\n",
    "        dictionary[\"Samples\"].append({})\n",
    "        dictionary[\"Samples\"][-1][\"Label\"] = mesh[\"Label\"]\n",
    "        dictionary[\"Samples\"][-1][\"Path\"] = \"../\" + mesh[\"Path\"]\n",
    "        dictionary[\"Samples\"][-1][\"Unit\"] = mesh[\"Unit\"]\n",
    "        dictionary[\"Samples\"][-1][\"Material\"] = mesh[\"Material\"]\n",
    "        dictionary[\"Samples\"][-1][\"Density\"] = mesh[\"Density\"]\n",
    "    \n",
    "        dictionary[\"Samples\"][-1][\"Transform\"] = []\n",
    "        dictionary[\"Samples\"][-1][\"Transform\"].append([\"Translation\", x_obj, y_obj, z_obj, \"mm\"])\n",
    "        dictionary[\"Samples\"][-1][\"Transform\"].append([\"Rotation\", alpha_x, 1, 0, 0])\n",
    "        dictionary[\"Samples\"][-1][\"Transform\"].append([\"Rotation\", alpha_y, 0, 1, 0])\n",
    "        dictionary[\"Samples\"][-1][\"Transform\"].append([\"Rotation\", alpha_z, 0, 0, 1])\n",
    "    \n",
    "    dictionary[\"Scan\"] = {}\n",
    "    rot_centre = getCentreOfRotationPosition(x)\n",
    "    # rot_centre = [x_rot_axis_pos, y_rot_axis_pos, z_rot_axis_pos] # local\n",
    "    dictionary[\"Scan\"][\"CenterOfRotation\"] = [\n",
    "        x_rot_axis_pos,\n",
    "        y_rot_axis_pos,\n",
    "        z_rot_axis_pos,\n",
    "        \"mm\"]\n",
    "    \n",
    "    dictionary[\"Scan\"][\"FinalAngle\"] = (I_flat.shape[0] - 1) * 3.6\n",
    "    dictionary[\"Scan\"][\"IncludeFinalAngle\"] = True\n",
    "    dictionary[\"Scan\"][\"NumberOfProjections\"] = I_flat.shape[0]\n",
    "    dictionary[\"Scan\"][\"GifPath\"] = \"preview.gif\"\n",
    "    dictionary[\"Scan\"][\"OutFolder\"] = image_path\n",
    "    dictionary[\"Scan\"][\"Flat-Field Correction\"] = True\n",
    "    \n",
    "    \n",
    "    # Convert and write JSON object to file\n",
    "    with open(fname, \"w\") as outfile: \n",
    "        json.dump(dictionary, outfile, indent = 4)\n",
    "\n",
    "\n",
    "visible_light_CT_json_file = current_folder + \"/\" + data_path + \"/visible_light.json\"\n",
    "simulated_CT_json_file = current_folder + \"/\" + data_path + \"/simulation.json\"\n",
    "\n",
    "saveJSON(x_current, visible_light_CT_json_file, \"flat_images/\")\n",
    "saveJSON(x_current, simulated_CT_json_file,     \"simulation/\")"
   ]
  },
  {
   "cell_type": "code",
   "execution_count": null,
   "id": "6f30473a-a3cd-41e0-bebc-c0ef90214b44",
   "metadata": {},
   "outputs": [],
   "source": []
  }
 ],
 "metadata": {
  "kernelspec": {
   "display_name": "Python 3 (ipykernel)",
   "language": "python",
   "name": "python3"
  },
  "language_info": {
   "codemirror_mode": {
    "name": "ipython",
    "version": 3
   },
   "file_extension": ".py",
   "mimetype": "text/x-python",
   "name": "python",
   "nbconvert_exporter": "python",
   "pygments_lexer": "ipython3",
   "version": "3.10.13"
  },
  "varInspector": {
   "cols": {
    "lenName": 16,
    "lenType": 16,
    "lenVar": 40
   },
   "kernels_config": {
    "python": {
     "delete_cmd_postfix": "",
     "delete_cmd_prefix": "del ",
     "library": "var_list.py",
     "varRefreshCmd": "print(var_dic_list())"
    },
    "r": {
     "delete_cmd_postfix": ") ",
     "delete_cmd_prefix": "rm(",
     "library": "var_list.r",
     "varRefreshCmd": "cat(var_dic_list()) "
    }
   },
   "types_to_exclude": [
    "module",
    "function",
    "builtin_function_or_method",
    "instance",
    "_Feature"
   ],
   "window_display": false
  }
 },
 "nbformat": 4,
 "nbformat_minor": 5
}
