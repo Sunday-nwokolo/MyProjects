{
 "cells": [
  {
   "cell_type": "code",
   "execution_count": 2,
   "id": "be22323e",
   "metadata": {},
   "outputs": [
    {
     "name": "stdout",
     "output_type": "stream",
     "text": [
      "Collecting git+https://bitbucket.org/spekpy/spekpy_release.git\n",
      "  Cloning https://bitbucket.org/spekpy/spekpy_release.git to c:\\users\\snn23kfl\\appdata\\local\\temp\\pip-req-build-hf2dbvqg\n",
      "  Resolved https://bitbucket.org/spekpy/spekpy_release.git to commit 547d80c4575e718e5c5a51472eb583188dbdd3ad\n",
      "  Preparing metadata (setup.py): started\n",
      "  Preparing metadata (setup.py): finished with status 'done'\n",
      "Requirement already satisfied: gvxr in c:\\users\\snn23kfl\\appdata\\local\\anaconda3\\lib\\site-packages (2.0.6)\n",
      "Requirement already satisfied: imagecodecs in c:\\users\\snn23kfl\\appdata\\local\\anaconda3\\lib\\site-packages (2023.1.23)\n",
      "Collecting xpecgen\n",
      "  Downloading xpecgen-1.3.0.tar.gz (906 kB)\n",
      "     ---------------------------------------- 0.0/906.5 kB ? eta -:--:--\n",
      "     ---------------------------------------- 10.2/906.5 kB ? eta -:--:--\n",
      "     ---------------------------------------- 10.2/906.5 kB ? eta -:--:--\n",
      "     - ----------------------------------- 30.7/906.5 kB 220.2 kB/s eta 0:00:04\n",
      "     - ----------------------------------- 41.0/906.5 kB 219.4 kB/s eta 0:00:04\n",
      "     ------- ---------------------------- 194.6/906.5 kB 908.0 kB/s eta 0:00:01\n",
      "     --------------------- ---------------- 512.0/906.5 kB 2.0 MB/s eta 0:00:01\n",
      "     -------------------------------------  901.1/906.5 kB 3.0 MB/s eta 0:00:01\n",
      "     -------------------------------------- 906.5/906.5 kB 2.9 MB/s eta 0:00:00\n",
      "  Preparing metadata (setup.py): started\n",
      "  Preparing metadata (setup.py): finished with status 'done'\n",
      "Collecting SimpleITK\n",
      "  Obtaining dependency information for SimpleITK from https://files.pythonhosted.org/packages/77/ea/a925ec74f476d4487f4f888f7c4a1ec22d5311074be8daf90765dc9fbe9d/SimpleITK-2.3.0-cp311-cp311-win_amd64.whl.metadata\n",
      "  Downloading SimpleITK-2.3.0-cp311-cp311-win_amd64.whl.metadata (8.0 kB)\n",
      "Requirement already satisfied: numpy in c:\\users\\snn23kfl\\appdata\\local\\anaconda3\\lib\\site-packages (from imagecodecs) (1.24.3)\n",
      "Requirement already satisfied: matplotlib in c:\\users\\snn23kfl\\appdata\\local\\anaconda3\\lib\\site-packages (from xpecgen) (3.7.2)\n",
      "Requirement already satisfied: scipy in c:\\users\\snn23kfl\\appdata\\local\\anaconda3\\lib\\site-packages (from xpecgen) (1.11.1)\n",
      "Collecting XlsxWriter (from xpecgen)\n",
      "  Obtaining dependency information for XlsxWriter from https://files.pythonhosted.org/packages/4f/64/42063c82918475ce0a63fa19063607e60969b1498ccd4220274cf808fc60/XlsxWriter-3.1.6-py3-none-any.whl.metadata\n",
      "  Downloading XlsxWriter-3.1.6-py3-none-any.whl.metadata (2.6 kB)\n",
      "Requirement already satisfied: future in c:\\users\\snn23kfl\\appdata\\local\\anaconda3\\lib\\site-packages (from xpecgen) (0.18.3)\n",
      "Requirement already satisfied: contourpy>=1.0.1 in c:\\users\\snn23kfl\\appdata\\local\\anaconda3\\lib\\site-packages (from matplotlib->xpecgen) (1.0.5)\n",
      "Requirement already satisfied: cycler>=0.10 in c:\\users\\snn23kfl\\appdata\\local\\anaconda3\\lib\\site-packages (from matplotlib->xpecgen) (0.11.0)\n",
      "Requirement already satisfied: fonttools>=4.22.0 in c:\\users\\snn23kfl\\appdata\\local\\anaconda3\\lib\\site-packages (from matplotlib->xpecgen) (4.25.0)\n",
      "Requirement already satisfied: kiwisolver>=1.0.1 in c:\\users\\snn23kfl\\appdata\\local\\anaconda3\\lib\\site-packages (from matplotlib->xpecgen) (1.4.4)\n",
      "Requirement already satisfied: packaging>=20.0 in c:\\users\\snn23kfl\\appdata\\local\\anaconda3\\lib\\site-packages (from matplotlib->xpecgen) (23.1)\n",
      "Requirement already satisfied: pillow>=6.2.0 in c:\\users\\snn23kfl\\appdata\\local\\anaconda3\\lib\\site-packages (from matplotlib->xpecgen) (9.4.0)\n",
      "Requirement already satisfied: pyparsing<3.1,>=2.3.1 in c:\\users\\snn23kfl\\appdata\\local\\anaconda3\\lib\\site-packages (from matplotlib->xpecgen) (3.0.9)\n",
      "Requirement already satisfied: python-dateutil>=2.7 in c:\\users\\snn23kfl\\appdata\\local\\anaconda3\\lib\\site-packages (from matplotlib->xpecgen) (2.8.2)\n",
      "Requirement already satisfied: six>=1.5 in c:\\users\\snn23kfl\\appdata\\local\\anaconda3\\lib\\site-packages (from python-dateutil>=2.7->matplotlib->xpecgen) (1.16.0)\n",
      "Downloading SimpleITK-2.3.0-cp311-cp311-win_amd64.whl (18.1 MB)\n",
      "   ---------------------------------------- 0.0/18.1 MB ? eta -:--:--\n",
      "   - -------------------------------------- 0.6/18.1 MB 18.8 MB/s eta 0:00:01\n",
      "   -- ------------------------------------- 1.3/18.1 MB 16.8 MB/s eta 0:00:01\n",
      "   ---- ----------------------------------- 1.8/18.1 MB 12.9 MB/s eta 0:00:02\n",
      "   ----- ---------------------------------- 2.5/18.1 MB 14.5 MB/s eta 0:00:02\n",
      "   ------ --------------------------------- 3.1/18.1 MB 13.1 MB/s eta 0:00:02\n",
      "   -------- ------------------------------- 3.9/18.1 MB 14.4 MB/s eta 0:00:01\n",
      "   --------- ------------------------------ 4.5/18.1 MB 14.4 MB/s eta 0:00:01\n",
      "   ----------- ---------------------------- 5.3/18.1 MB 14.8 MB/s eta 0:00:01\n",
      "   ------------- -------------------------- 5.9/18.1 MB 14.6 MB/s eta 0:00:01\n",
      "   -------------- ------------------------- 6.7/18.1 MB 14.7 MB/s eta 0:00:01\n",
      "   ---------------- ----------------------- 7.5/18.1 MB 14.9 MB/s eta 0:00:01\n",
      "   ----------------- ---------------------- 8.0/18.1 MB 14.5 MB/s eta 0:00:01\n",
      "   ------------------- -------------------- 8.8/18.1 MB 14.9 MB/s eta 0:00:01\n",
      "   -------------------- ------------------- 9.4/18.1 MB 14.7 MB/s eta 0:00:01\n",
      "   ---------------------- ----------------- 10.0/18.1 MB 14.2 MB/s eta 0:00:01\n",
      "   ---------------------- ----------------- 10.4/18.1 MB 13.9 MB/s eta 0:00:01\n",
      "   ------------------------ --------------- 11.0/18.1 MB 13.9 MB/s eta 0:00:01\n",
      "   -------------------------- ------------- 11.7/18.1 MB 13.9 MB/s eta 0:00:01\n",
      "   -------------------------- ------------- 12.1/18.1 MB 13.6 MB/s eta 0:00:01\n",
      "   --------------------------- ------------ 12.4/18.1 MB 13.4 MB/s eta 0:00:01\n",
      "   --------------------------- ------------ 12.6/18.1 MB 12.8 MB/s eta 0:00:01\n",
      "   ----------------------------- ---------- 13.1/18.1 MB 12.6 MB/s eta 0:00:01\n",
      "   ----------------------------- ---------- 13.1/18.1 MB 12.6 MB/s eta 0:00:01\n",
      "   -------------------------------- ------- 14.5/18.1 MB 12.8 MB/s eta 0:00:01\n",
      "   --------------------------------- ------ 15.3/18.1 MB 12.6 MB/s eta 0:00:01\n",
      "   ----------------------------------- ---- 16.0/18.1 MB 12.8 MB/s eta 0:00:01\n",
      "   ------------------------------------- -- 16.7/18.1 MB 12.8 MB/s eta 0:00:01\n",
      "   -------------------------------------- - 17.5/18.1 MB 12.8 MB/s eta 0:00:01\n",
      "   ---------------------------------------  18.1/18.1 MB 12.6 MB/s eta 0:00:01\n",
      "   ---------------------------------------  18.1/18.1 MB 12.6 MB/s eta 0:00:01\n",
      "   ---------------------------------------- 18.1/18.1 MB 11.5 MB/s eta 0:00:00\n",
      "Downloading XlsxWriter-3.1.6-py3-none-any.whl (154 kB)\n",
      "   ---------------------------------------- 0.0/154.3 kB ? eta -:--:--\n",
      "   ---------------------------------------- 154.3/154.3 kB 9.0 MB/s eta 0:00:00\n",
      "Building wheels for collected packages: xpecgen, spekpy\n",
      "  Building wheel for xpecgen (setup.py): started\n",
      "  Building wheel for xpecgen (setup.py): finished with status 'done'\n",
      "  Created wheel for xpecgen: filename=xpecgen-1.3.0-py3-none-any.whl size=975237 sha256=2c29baf605751d3eb5c0a4bdaa0fb987ce4e127ec254db5abd27844b3bf41c39\n",
      "  Stored in directory: c:\\users\\snn23kfl\\appdata\\local\\pip\\cache\\wheels\\ad\\1b\\86\\3581941f6b51af1f58aff94afbd859519548636b20091fb3dd\n",
      "  Building wheel for spekpy (setup.py): started\n",
      "  Building wheel for spekpy (setup.py): finished with status 'done'\n",
      "  Created wheel for spekpy: filename=spekpy-2.0.10-py3-none-any.whl size=82856975 sha256=3cf89a12529378cf0af4614103a20609ae8ebf94e23846836f20827b37d1418b\n",
      "  Stored in directory: C:\\Users\\snn23kfl\\AppData\\Local\\Temp\\pip-ephem-wheel-cache-qwivf6h2\\wheels\\f9\\75\\ef\\a95e6b3302d1590af0795f38cfb7d72fdc6f857700d484e789\n",
      "Successfully built xpecgen spekpy\n",
      "Installing collected packages: SimpleITK, XlsxWriter, xpecgen, spekpy\n",
      "Successfully installed SimpleITK-2.3.0 XlsxWriter-3.1.6 spekpy-2.0.10 xpecgen-1.3.0\n"
     ]
    },
    {
     "name": "stderr",
     "output_type": "stream",
     "text": [
      "  Running command git clone --filter=blob:none --quiet https://bitbucket.org/spekpy/spekpy_release.git 'C:\\Users\\snn23kfl\\AppData\\Local\\Temp\\pip-req-build-hf2dbvqg'\n",
      "  warning: filtering not recognized by server, ignoring\n",
      "  warning: filtering not recognized by server, ignoring\n"
     ]
    }
   ],
   "source": [
    "!pip3 install gvxr imagecodecs xpecgen git+https://bitbucket.org/spekpy/spekpy_release.git SimpleITK"
   ]
  },
  {
   "cell_type": "code",
   "execution_count": null,
   "id": "6e7fcc47",
   "metadata": {},
   "outputs": [],
   "source": []
  }
 ],
 "metadata": {
  "kernelspec": {
   "display_name": "Python 3 (ipykernel)",
   "language": "python",
   "name": "python3"
  },
  "language_info": {
   "codemirror_mode": {
    "name": "ipython",
    "version": 3
   },
   "file_extension": ".py",
   "mimetype": "text/x-python",
   "name": "python",
   "nbconvert_exporter": "python",
   "pygments_lexer": "ipython3",
   "version": "3.11.5"
  }
 },
 "nbformat": 4,
 "nbformat_minor": 5
}
