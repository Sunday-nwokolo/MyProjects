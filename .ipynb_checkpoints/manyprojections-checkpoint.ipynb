{
 "cells": [
  {
   "cell_type": "code",
   "execution_count": 1,
   "id": "8923188d",
   "metadata": {},
   "outputs": [
    {
     "name": "stdout",
     "output_type": "stream",
     "text": [
      "SimpleGVXR 2.0.6 (2023-05-23T20:52:16) [Compiler: Microsoft Visual Studio] on Windows\n",
      "gVirtualXRay core library (gvxr) 2.0.6 (2023-05-23T20:53:11) [Compiler: Microsoft Visual Studio] on Windows\n"
     ]
    }
   ],
   "source": [
    "import os, sys, time, math\n",
    "from natsort import natsorted, ns\n",
    "\n",
    "import numpy as np\n",
    "import cv2\n",
    "import matplotlib.pyplot as plt\n",
    "import cma\n",
    "from PIL import Image\n",
    "import glob\n",
    "import re\n",
    "\n",
    "\n",
    "from gvxrPython3 import gvxr\n",
    "from gvxrPython3 import json2gvxr\n",
    "\n",
    "from gvxrPython3.utils import visualise # Visualise the 3D environment if k3D is supported\n",
    "from gvxrPython3.utils import plotScreenshot # Visualise the 3D environment using Matplotlib\n",
    "\n",
    "from gvxrPython3.utils import loadSpekpySpectrum # Generate and load an X-ray spectrum using Spekpy\n",
    "from gvxrPython3.utils import loadXpecgenSpectrum # Generate and load an X-ray spectrum using xpecgen"
   ]
  },
  {
   "cell_type": "code",
   "execution_count": 2,
   "id": "6dee3386",
   "metadata": {},
   "outputs": [],
   "source": [
    "#data_path = \"4thOCtober_image/\"\n",
    "data_path = \"C:/Users/snn23kfl/project/4thOCtober_image/\""
   ]
  },
  {
   "cell_type": "code",
   "execution_count": 3,
   "id": "7e38088c",
   "metadata": {},
   "outputs": [
    {
     "name": "stdout",
     "output_type": "stream",
     "text": [
      "C:\\Users\\snn23kfl\\project\n"
     ]
    }
   ],
   "source": [
    "current_folder = str(globals()['_dh'][0])\n",
    "print(current_folder)"
   ]
  },
  {
   "cell_type": "code",
   "execution_count": 4,
   "id": "6975ef34",
   "metadata": {},
   "outputs": [],
   "source": [
    "def average_images(image_paths):\n",
    "    \n",
    "    \"\"\"Average a list of images.\"\"\"\n",
    "    # Load the first image to get the shape\n",
    "    sample_image = cv2.imread(image_paths[0], cv2.IMREAD_GRAYSCALE)\n",
    "    if sample_image is None:\n",
    "        raise ValueError(f\"Failed to load image: {image_paths[0]}\")\n",
    "    \n",
    "    avg_image = np.zeros_like(sample_image, dtype=float)\n",
    "    \n",
    "    for path in image_paths:\n",
    "        image = cv2.imread(path, cv2.IMREAD_GRAYSCALE)\n",
    "        if image is None:\n",
    "            raise ValueError(f\"Failed to load image: {path}\")\n",
    "        avg_image += image.astype(float)\n",
    "    \n",
    "    avg_image /= len(image_paths)\n",
    "    \n",
    "    return cv2.medianBlur(avg_image.astype(np.single), 3)"
   ]
  },
  {
   "cell_type": "code",
   "execution_count": 5,
   "id": "0b323c91",
   "metadata": {},
   "outputs": [],
   "source": [
    "def flatField(img, white, dark, epsilon=0.0):\n",
    "\n",
    "    temp_white = np.copy(white)\n",
    "    temp_img = np.copy(img)\n",
    "    \n",
    "    test = white - dark == 0\n",
    "    temp_white[test] += 1\n",
    "\n",
    "    if len(img.shape) == 2:\n",
    "        temp_img[test] += 1\n",
    "        return (temp_img - dark + epsilon) / (temp_white - dark + epsilon)\n",
    "    elif len(img.shape) == 3:\n",
    "        flat = np.zeros(img.shape, dtype=np.single)\n",
    "        for i, proj in enumerate(temp_img):\n",
    "            proj[test] += 1\n",
    "            flat[i] = (proj - dark + epsilon) / (temp_white - dark + epsilon)\n",
    "        return flat\n",
    "    else:\n",
    "        raise IOError(\"Bad image dimension: \" + str(img.shape))"
   ]
  },
  {
   "cell_type": "code",
   "execution_count": 6,
   "id": "d75d9a5b",
   "metadata": {},
   "outputs": [],
   "source": [
    "#path for my recently acquired images stored in PhD file\n",
    "\n",
    "\n",
    "\n",
    "dark_field_paths = glob.glob(data_path + '/darkfd/darkfd_*.tiff')\n",
    "dark_field_paths = natsorted(dark_field_paths, key=lambda y: y.lower())\n",
    "\n",
    "white_field_paths = glob.glob(data_path + '/whitefd/whitefd_*.tiff')\n",
    "white_field_paths = natsorted(white_field_paths, key=lambda y: y.lower())\n",
    "\n",
    "raw_image_paths = glob.glob(data_path + '/raw_images/raw_image_*.tiff')\n",
    "raw_image_paths = natsorted(raw_image_paths, key=lambda y: y.lower())\n",
    "\n",
    "if len(raw_image_paths) == 0:\n",
    "    raw_image_paths = glob.glob(data_path + '/rawimages/raw_images_*.jpg')\n",
    "    raw_image_paths = natsorted(raw_image_paths, key=lambda y: y.lower())"
   ]
  },
  {
   "cell_type": "code",
   "execution_count": 7,
   "id": "8d30910e",
   "metadata": {},
   "outputs": [],
   "source": [
    "#Average the dark field and white field images\n",
    "I_dark = average_images(dark_field_paths)\n",
    "I_white = average_images(white_field_paths)"
   ]
  },
  {
   "cell_type": "code",
   "execution_count": 8,
   "id": "e7d9fb33",
   "metadata": {},
   "outputs": [],
   "source": [
    "I_raw = []\n",
    "for fname in raw_image_paths:\n",
    "    I_raw.append(cv2.imread(fname, \n",
    "                           cv2.IMREAD_GRAYSCALE))\n",
    "I_raw = np.array(I_raw, dtype=np.single)\n",
    "# I_raw = average_images(raw_image_paths)\n",
    "\n",
    "# for image in I_raw:\n",
    "#     image /= np.mean(image[:,0:200])\n",
    "\n",
    "# I_white /= np.mean(I_white[:,0:200])\n",
    "# I_dark /= np.mean(I_dark[:,0:200])\n",
    "\n",
    "I_flat1 = flatField(I_raw, I_white, I_dark)\n",
    "I_flat2 = flatField(I_raw, I_white, np.zeros(I_dark.shape))\n",
    "\n",
    "# Clamp pixel values\n",
    "I_flat1[I_flat1<0] = 0\n",
    "I_flat2[I_flat2<0] = 0\n",
    "\n",
    "I_flat1[I_flat1>1] = 1\n",
    "I_flat2[I_flat2>1] = 1"
   ]
  },
  {
   "cell_type": "code",
   "execution_count": 9,
   "id": "d838ef5a",
   "metadata": {},
   "outputs": [],
   "source": [
    "I_flat = I_flat2"
   ]
  },
  {
   "cell_type": "code",
   "execution_count": 10,
   "id": "4c2e6fdc",
   "metadata": {},
   "outputs": [],
   "source": [
    "#sod = 43\n",
    "#sod =47\n",
    "sod = 48\n",
    "sdd = 61"
   ]
  },
  {
   "cell_type": "code",
   "execution_count": 11,
   "id": "5905a954",
   "metadata": {},
   "outputs": [],
   "source": [
    "Ti90Al10 = 5.68\n",
    "x_src = 0\n",
    "y_src = 0\n",
    "z_src = sod\n",
    "\n",
    "x_det = 0\n",
    "y_det = 0\n",
    "z_det = -(sdd - sod)\n",
    "\n",
    "x_obj = 5\n",
    "y_obj = 0\n",
    "z_obj = 0\n",
    "\n",
    "alpha_x = 0 \n",
    "alpha_y = 0\n",
    "alpha_z = 0\n",
    "\n",
    "x_rot = 0\n",
    "y_rot = 0\n",
    "z_rot = 0\n",
    "\n",
    "x_default = [\n",
    "    x_src,\n",
    "    y_src,\n",
    "    z_src,\n",
    "\n",
    "    x_det,\n",
    "    y_det,\n",
    "    z_det,\n",
    "\n",
    "    x_obj,\n",
    "    y_obj,\n",
    "    z_obj,\n",
    "\n",
    "    alpha_x, \n",
    "    alpha_y,\n",
    "    alpha_z,\n",
    "\n",
    "#     x_rot,\n",
    "#     y_rot,\n",
    "#     z_rot,\n",
    "]\n"
   ]
  },
  {
   "cell_type": "code",
   "execution_count": 12,
   "id": "822a7013",
   "metadata": {},
   "outputs": [
    {
     "name": "stdout",
     "output_type": "stream",
     "text": [
      "Create an OpenGL context: 512x512\n"
     ]
    }
   ],
   "source": [
    "# Initialise gVXR using our JSON file\n",
    "json2gvxr.initGVXR(\"simulation1.json\", \"OPENGL\", 3, 2)"
   ]
  },
  {
   "cell_type": "code",
   "execution_count": 13,
   "id": "8bc4222a",
   "metadata": {},
   "outputs": [
    {
     "name": "stdout",
     "output_type": "stream",
     "text": [
      "Set up the beam\n",
      "\tSource position: [0.0, 0.0, 0.0, 'mm']\n",
      "\tSource shape: PointSource\n"
     ]
    }
   ],
   "source": [
    "# Load our source properties\n",
    "json2gvxr.initSourceGeometry(\"simulation1.json\")\n",
    "json2gvxr.initSpectrum(verbose=0)\n",
    "\n",
    "gvxr.setSourcePosition(x_src, y_src, z_src, \"mm\")"
   ]
  },
  {
   "cell_type": "code",
   "execution_count": 14,
   "id": "f538acf2",
   "metadata": {},
   "outputs": [],
   "source": [
    "def getAverageEnergy(k, f):\n",
    "    \n",
    "    avg = 0\n",
    "    for energy, count in zip(k, f):\n",
    "        avg += energy * count\n",
    "        \n",
    "    return avg / np.sum(f)"
   ]
  },
  {
   "cell_type": "code",
   "execution_count": 15,
   "id": "f67b8114",
   "metadata": {},
   "outputs": [
    {
     "name": "stdout",
     "output_type": "stream",
     "text": [
      "Set up the detector\n",
      "\tDetector position: [0.0, 0.0, 0.0, 'mm']\n",
      "\tDetector up vector: [0, -1, 0]\n",
      "\tNumber of pixels: [640, 480]\n",
      "\tDetector number of pixels: [640, 480]\n",
      "\tPixel spacing: [0.23, 0.23, 'mm']\n"
     ]
    }
   ],
   "source": [
    "# Load our detector\n",
    "json2gvxr.initDetector(\"simulation1.json\")\n",
    "    # \"NumberOfPixels\": [2880, 2880],\n",
    "\n",
    "gvxr.setDetectorPosition(x_det, y_det, z_det, \"mm\")"
   ]
  },
  {
   "cell_type": "code",
   "execution_count": 16,
   "id": "33eef45e",
   "metadata": {},
   "outputs": [],
   "source": [
    "# Load our samples\n",
    "json2gvxr.initSamples(\"simulation1.json\", verbose=0)\n",
    "\n",
    "gvxr.setDensity(\"cuboid\", Ti90Al10, \"g/cm3\")"
   ]
  },
  {
   "cell_type": "code",
   "execution_count": 17,
   "id": "12b9ec8c",
   "metadata": {},
   "outputs": [
    {
     "data": {
      "image/png": "[encoded data removed]",
      "text/plain": [
       "<Figure size 640x480 with 2 Axes>"
      ]
     },
     "metadata": {},
     "output_type": "display_data"
    }
   ],
   "source": [
    "# Let's get an x-ray image\n",
    "fig = plt.figure()\n",
    "plt.imshow(gvxr.computeXRayImage(), cmap=\"gray\")\n",
    "plt.colorbar()\n",
    "plt.show()"
   ]
  },
  {
   "cell_type": "code",
   "execution_count": 18,
   "id": "eb940196",
   "metadata": {},
   "outputs": [],
   "source": [
    "def getXrayImage(x, take_screenshot=False):\n",
    "    \n",
    "    backup = gvxr.getLocalTransformationMatrix(\"root\")\n",
    "\n",
    "    # Move source, det, object using x\n",
    "    x_src = x[0]\n",
    "    y_src = x[1]\n",
    "    z_src = x[2]\n",
    "    gvxr.setSourcePosition(x_src, y_src, z_src, \"mm\")\n",
    "    \n",
    "    x_det = x[3]\n",
    "    y_det = x[4]\n",
    "    z_det = x[5]\n",
    "    gvxr.setDetectorPosition(x_det, y_det, z_det, \"mm\")\n",
    "\n",
    "    x_obj = x[6]\n",
    "    y_obj = x[7]\n",
    "    z_obj = x[8]\n",
    "\n",
    "    alpha_x = x[9]\n",
    "    alpha_y = x[10]\n",
    "    alpha_z = x[11]\n",
    "\n",
    "    gvxr.resetSceneTransformation();\n",
    "\n",
    "    \n",
    "    \n",
    "#     gvxr.rotateNode(\"root\", rot_angle, 1, 0, 0)\n",
    "    \n",
    "#     gvxr.translateNode(\"root\", x_rot_axis_pos, y_rot_axis_pos, z_rot_axis_pos, \"mm\")\n",
    "\n",
    "    \n",
    "    \n",
    "    gvxr.translateNode(\"root\", x_obj, y_obj, z_obj, \"mm\")\n",
    "    \n",
    "    gvxr.rotateNode(\"root\", alpha_x, 1, 0, 0)\n",
    "    gvxr.rotateNode(\"root\", alpha_y, 0, 1, 0)\n",
    "    gvxr.rotateNode(\"root\", alpha_z, 0, 0, 1)\n",
    "    \n",
    "    gvxr.translateNode(\"root\", -x_obj, -y_obj, -z_obj, \"mm\")\n",
    "    \n",
    "    test_image = np.array(gvxr.computeXRayImage(), dtype=np.single)\n",
    "\n",
    "    if take_screenshot:\n",
    "        global screenshot\n",
    "        gvxr.displayScene()        \n",
    "        screenshot = gvxr.takeScreenshot()\n",
    "    \n",
    "    gvxr.setLocalTransformationMatrix(\"root\", backup)\n",
    "    \n",
    "    return test_image / gvxr.getTotalEnergyWithDetectorResponse()"
   ]
  },
  {
   "cell_type": "code",
   "execution_count": 19,
   "id": "af153962",
   "metadata": {},
   "outputs": [],
   "source": [
    "import cma\n",
    "from tifffile import imread, imwrite"
   ]
  },
  {
   "cell_type": "code",
   "execution_count": 20,
   "id": "371083de",
   "metadata": {},
   "outputs": [],
   "source": [
    "total_nb_projs = 200\n",
    "angular_span = 360\n",
    "angular_step = 360 / 103\n",
    "\n",
    "fnames_images = []\n",
    "angles = []\n",
    "\n",
    "for i in range(total_nb_projs):\n",
    "    angles.append(i*angular_step)\n",
    "    fnames_images.append(current_folder + \"/4thOctober_image/raw_images/raw_image_\" + str(i) + \".tiff\")    "
   ]
  },
  {
   "cell_type": "code",
   "execution_count": 21,
   "id": "8e492895",
   "metadata": {},
   "outputs": [],
   "source": [
    "# print(\"angles (first 5):\", angles[:5])\n",
    "# print(\"fnames_images (first 5):\", fnames_images[:5])\n"
   ]
  },
  {
   "cell_type": "code",
   "execution_count": 22,
   "id": "e64fb23e",
   "metadata": {},
   "outputs": [],
   "source": [
    "def setNumberOfProjections(n):\n",
    "    global nb_projs_in_fitness, ref_images, crop_ref_images, fitness_angles, fitness_fnames, test_images\n",
    "\n",
    "    nb_projs_in_fitness = n\n",
    "    \n",
    "    ref_images = []\n",
    "    fitness_angles = []\n",
    "    fitness_fnames = []\n",
    "\n",
    "    for i in range(nb_projs_in_fitness):\n",
    "        index = int(i / nb_projs_in_fitness * total_nb_projs / 2)\n",
    "        print(i, angles[index], fnames_images[index])\n",
    "        ref_images.append(imread(fnames_images[index]))\n",
    "        fitness_angles.append(angles[index])\n",
    "        fitness_fnames.append(fnames_images[index])\n",
    "\n",
    "    ref_images = np.array(ref_images, dtype=np.single)\n",
    "    ref_images -= ref_images.mean()\n",
    "    ref_images /= ref_images.std()\n",
    "\n",
    "    fitness_angles = np.array(fitness_angles, dtype=np.single)\n",
    "\n",
    "    test_images = np.zeros(ref_images.shape, dtype=np.single)\n",
    "    \n",
    "    crop_ref_images = ref_images[:, 211:470, 100:600]\n",
    "    crop_ref_images -= crop_ref_images.mean()\n",
    "    crop_ref_images /= crop_ref_images.std()"
   ]
  },
  {
   "cell_type": "code",
   "execution_count": 23,
   "id": "f9235213",
   "metadata": {},
   "outputs": [],
   "source": [
    "def displayResult(x):\n",
    "    transform(x)\n",
    "    \n",
    "    ZNCC = 100 * (crop_ref_images * crop_test_images).mean()\n",
    "    print(\"Overall ZNCC:\", \"{:.4f}\".format(ZNCC) + \"%\")\n",
    "    \n",
    "    for i, (angle, fname) in enumerate(zip(fitness_angles, fitness_fnames)):\n",
    "        \n",
    "        ref = np.copy(crop_ref_images[i])\n",
    "        test = np.copy(crop_test_images[i])\n",
    "\n",
    "        ref -= ref.mean()\n",
    "        ref /= ref.std()\n",
    "        \n",
    "        test -= test.mean()\n",
    "        test /= test.std()\n",
    "        \n",
    "        ZNCC = 100 * (ref * test).mean()\n",
    "\n",
    "        offset=1.5\n",
    "        # imwrite(current_folder + \"/test_\" + str(i) + \"tif\", test_images[i])\n",
    "        fig, axs = plt.subplots(1, 3, figsize=(10, 4))\n",
    "        plt.suptitle(fname + \", ZNCC=\" + \"{:.4f}\".format(ZNCC) + \"%\")\n",
    "        axs[0].imshow(ref_images[i],cmap=\"gray\", vmin=-offset, vmax=offset)\n",
    "        axs[1].imshow(test_images[i],cmap=\"gray\", vmin=-offset, vmax=offset)\n",
    "        # axs[2].imshow(np.abs(ref_images[i] - test_images[i]),cmap=\"gray\")\n",
    "        im = axs[2].imshow((ref_images[i] - test_images[i]),cmap=\"gray\", vmin=-offset, vmax=offset)\n",
    "        cbar = fig.colorbar(im)\n",
    "        \n",
    "        for ax in axs:\n",
    "            ax.set_xlim([100, 600])\n",
    "            ax.set_ylim([211, 470])\n",
    "\n",
    "        fig = plt.figure(figsize=(10, 4))\n",
    "        plt.plot(crop_ref_images[i][crop_ref_images.shape[1] // 2, :], label=\"Experimental\")\n",
    "        plt.plot(crop_test_images[i][crop_ref_images.shape[1] // 2, :], label=\"Simulated\")\n",
    "        plt.legend()\n",
    "        plt.show()    "
   ]
  },
  {
   "cell_type": "code",
   "execution_count": 24,
   "id": "689a6739",
   "metadata": {},
   "outputs": [
    {
     "name": "stdout",
     "output_type": "stream",
     "text": [
      "0 0.0 C:\\Users\\snn23kfl\\project/4thOctober_image/raw_images/raw_image_0.tiff\n",
      "1 174.75728155339806 C:\\Users\\snn23kfl\\project/4thOctober_image/raw_images/raw_image_50.tiff\n"
     ]
    }
   ],
   "source": [
    "setNumberOfProjections(2)\n",
    "\n"
   ]
  },
  {
   "cell_type": "code",
   "execution_count": 25,
   "id": "dfd7ad3c",
   "metadata": {},
   "outputs": [],
   "source": [
    "def transform(x):\n",
    "    \n",
    "    global test_images, fitness_angles, crop_test_images\n",
    "    backup = gvxr.getLocalTransformationMatrix(\"root\")\n",
    "    \n",
    "    for i, angle in enumerate(fitness_angles):\n",
    "    \n",
    "        # Rotate\n",
    "        gvxr.resetSceneTransformation();\n",
    "        gvxr.translateNode(\"root\", x[0], x[1], x[2], \"mm\")\n",
    "        gvxr.rotateNode(\"root\", angle, 0, 0, 1)        \n",
    "        gvxr.translateNode(\"root\", x[3], x[4], x[5], \"mm\")\n",
    "\n",
    "\n",
    "        # Simulate\n",
    "        test_images[i] = np.array(gvxr.computeXRayImage(), dtype=np.single)  \n",
    "        \n",
    "        gvxr.setLocalTransformationMatrix(\"root\", backup)\n",
    "\n",
    "    test_images -= test_images.mean()\n",
    "    test_images /= test_images.std()\n",
    "\n",
    "    crop_test_images = test_images[:, 211:470, 100:600]\n",
    "    crop_test_images -= crop_test_images.mean()\n",
    "    crop_test_images /= crop_test_images.std()    "
   ]
  },
  {
   "cell_type": "code",
   "execution_count": 26,
   "id": "4dafa242",
   "metadata": {},
   "outputs": [],
   "source": [
    "def fitness(x):\n",
    "    \n",
    "    global ref_images, test_image, fitness_angles, nb_projs_in_fitness, crop_ref_images\n",
    "    \n",
    "    transform(x)\n",
    "        \n",
    "    return np.abs(crop_ref_images - crop_test_images).mean()\n",
    "    # return np.abs(ref_images - test_images).sum() / nb_projs_in_fitness\n",
    "    # return 1.0 - (ref_images * test_images).mean()"
   ]
  },
  {
   "cell_type": "code",
   "execution_count": 27,
   "id": "a0c7efd4",
   "metadata": {},
   "outputs": [
    {
     "ename": "ValueError",
     "evalue": "could not broadcast input array from shape (480,640) into shape (480,640,3)",
     "output_type": "error",
     "traceback": [
      "\u001b[1;31m---------------------------------------------------------------------------\u001b[0m",
      "\u001b[1;31mValueError\u001b[0m                                Traceback (most recent call last)",
      "Cell \u001b[1;32mIn[27], line 1\u001b[0m\n\u001b[1;32m----> 1\u001b[0m displayResult(\u001b[38;5;241m6\u001b[39m\u001b[38;5;241m*\u001b[39m[\u001b[38;5;241m0.0\u001b[39m])\n",
      "Cell \u001b[1;32mIn[23], line 2\u001b[0m, in \u001b[0;36mdisplayResult\u001b[1;34m(x)\u001b[0m\n\u001b[0;32m      1\u001b[0m \u001b[38;5;28;01mdef\u001b[39;00m \u001b[38;5;21mdisplayResult\u001b[39m(x):\n\u001b[1;32m----> 2\u001b[0m     transform(x)\n\u001b[0;32m      4\u001b[0m     ZNCC \u001b[38;5;241m=\u001b[39m \u001b[38;5;241m100\u001b[39m \u001b[38;5;241m*\u001b[39m (crop_ref_images \u001b[38;5;241m*\u001b[39m crop_test_images)\u001b[38;5;241m.\u001b[39mmean()\n\u001b[0;32m      5\u001b[0m     \u001b[38;5;28mprint\u001b[39m(\u001b[38;5;124m\"\u001b[39m\u001b[38;5;124mOverall ZNCC:\u001b[39m\u001b[38;5;124m\"\u001b[39m, \u001b[38;5;124m\"\u001b[39m\u001b[38;5;132;01m{:.4f}\u001b[39;00m\u001b[38;5;124m\"\u001b[39m\u001b[38;5;241m.\u001b[39mformat(ZNCC) \u001b[38;5;241m+\u001b[39m \u001b[38;5;124m\"\u001b[39m\u001b[38;5;124m%\u001b[39m\u001b[38;5;124m\"\u001b[39m)\n",
      "Cell \u001b[1;32mIn[25], line 16\u001b[0m, in \u001b[0;36mtransform\u001b[1;34m(x)\u001b[0m\n\u001b[0;32m     12\u001b[0m     gvxr\u001b[38;5;241m.\u001b[39mtranslateNode(\u001b[38;5;124m\"\u001b[39m\u001b[38;5;124mroot\u001b[39m\u001b[38;5;124m\"\u001b[39m, x[\u001b[38;5;241m3\u001b[39m], x[\u001b[38;5;241m4\u001b[39m], x[\u001b[38;5;241m5\u001b[39m], \u001b[38;5;124m\"\u001b[39m\u001b[38;5;124mmm\u001b[39m\u001b[38;5;124m\"\u001b[39m)\n\u001b[0;32m     15\u001b[0m     \u001b[38;5;66;03m# Simulate\u001b[39;00m\n\u001b[1;32m---> 16\u001b[0m     test_images[i] \u001b[38;5;241m=\u001b[39m np\u001b[38;5;241m.\u001b[39marray(gvxr\u001b[38;5;241m.\u001b[39mcomputeXRayImage(), dtype\u001b[38;5;241m=\u001b[39mnp\u001b[38;5;241m.\u001b[39msingle)  \n\u001b[0;32m     18\u001b[0m     gvxr\u001b[38;5;241m.\u001b[39msetLocalTransformationMatrix(\u001b[38;5;124m\"\u001b[39m\u001b[38;5;124mroot\u001b[39m\u001b[38;5;124m\"\u001b[39m, backup)\n\u001b[0;32m     20\u001b[0m test_images \u001b[38;5;241m-\u001b[39m\u001b[38;5;241m=\u001b[39m test_images\u001b[38;5;241m.\u001b[39mmean()\n",
      "\u001b[1;31mValueError\u001b[0m: could not broadcast input array from shape (480,640) into shape (480,640,3)"
     ]
    }
   ],
   "source": [
    "displayResult(6*[0.0])"
   ]
  },
  {
   "cell_type": "code",
   "execution_count": null,
   "id": "924bf524",
   "metadata": {},
   "outputs": [],
   "source": []
  }
 ],
 "metadata": {
  "kernelspec": {
   "display_name": "Python 3 (ipykernel)",
   "language": "python",
   "name": "python3"
  },
  "language_info": {
   "codemirror_mode": {
    "name": "ipython",
    "version": 3
   },
   "file_extension": ".py",
   "mimetype": "text/x-python",
   "name": "python",
   "nbconvert_exporter": "python",
   "pygments_lexer": "ipython3",
   "version": "3.11.5"
  }
 },
 "nbformat": 4,
 "nbformat_minor": 5
}
