{
 "cells": [
  {
   "cell_type": "code",
   "execution_count": 1,
   "id": "0b7c4e2b",
   "metadata": {},
   "outputs": [
    {
     "name": "stdout",
     "output_type": "stream",
     "text": [
      "spekpy is not install, you won't be able to load a beam spectrum using spekpy\n",
      "xpecgen is not install, you won't be able to load a beam spectrum using xpecgen\n",
      "SimpleGVXR 2.0.6 (2023-05-23T20:52:16) [Compiler: Microsoft Visual Studio] on Windows\n",
      "gVirtualXRay core library (gvxr) 2.0.6 (2023-05-23T20:53:11) [Compiler: Microsoft Visual Studio] on Windows\n"
     ]
    }
   ],
   "source": [
    "import os, sys, time, math\n",
    "from natsort import natsorted, ns\n",
    "\n",
    "import numpy as np\n",
    "import cv2\n",
    "import matplotlib.pyplot as plt\n",
    "import cma\n",
    "from PIL import Image\n",
    "import glob\n",
    "import re\n",
    "\n",
    "\n",
    "from gvxrPython3 import gvxr\n",
    "from gvxrPython3 import json2gvxr\n",
    "\n",
    "from gvxrPython3.utils import visualise # Visualise the 3D environment if k3D is supported\n",
    "from gvxrPython3.utils import plotScreenshot # Visualise the 3D environment using Matplotlib\n",
    "\n",
    "from gvxrPython3.utils import loadSpekpySpectrum # Generate and load an X-ray spectrum using Spekpy\n",
    "from gvxrPython3.utils import loadXpecgenSpectrum # Generate and load an X-ray spectrum using xpecgen"
   ]
  },
  {
   "cell_type": "code",
   "execution_count": 2,
   "id": "91fa545a",
   "metadata": {},
   "outputs": [],
   "source": [
    "data_path = \"4thOCtober_image/\""
   ]
  },
  {
   "cell_type": "code",
   "execution_count": 3,
   "id": "fe37e121",
   "metadata": {},
   "outputs": [
    {
     "name": "stdout",
     "output_type": "stream",
     "text": [
      "C:\\Users\\snn23kfl\\project\n"
     ]
    }
   ],
   "source": [
    "current_folder = str(globals()['_dh'][0])\n",
    "print(current_folder)"
   ]
  },
  {
   "cell_type": "code",
   "execution_count": 4,
   "id": "4b5cc2f6",
   "metadata": {},
   "outputs": [],
   "source": [
    "def average_images(image_paths):\n",
    "    \n",
    "    \"\"\"Average a list of images.\"\"\"\n",
    "    # Load the first image to get the shape\n",
    "    sample_image = cv2.imread(image_paths[0], cv2.IMREAD_GRAYSCALE)\n",
    "    if sample_image is None:\n",
    "        raise ValueError(f\"Failed to load image: {image_paths[0]}\")\n",
    "    \n",
    "    avg_image = np.zeros_like(sample_image, dtype=float)\n",
    "    \n",
    "    for path in image_paths:\n",
    "        image = cv2.imread(path, cv2.IMREAD_GRAYSCALE)\n",
    "        if image is None:\n",
    "            raise ValueError(f\"Failed to load image: {path}\")\n",
    "        avg_image += image.astype(float)\n",
    "    \n",
    "    avg_image /= len(image_paths)\n",
    "    \n",
    "    return cv2.medianBlur(avg_image.astype(np.single), 3)"
   ]
  },
  {
   "cell_type": "code",
   "execution_count": null,
   "id": "0bb52b91",
   "metadata": {},
   "outputs": [],
   "source": []
  }
 ],
 "metadata": {
  "kernelspec": {
   "display_name": "Python 3 (ipykernel)",
   "language": "python",
   "name": "python3"
  },
  "language_info": {
   "codemirror_mode": {
    "name": "ipython",
    "version": 3
   },
   "file_extension": ".py",
   "mimetype": "text/x-python",
   "name": "python",
   "nbconvert_exporter": "python",
   "pygments_lexer": "ipython3",
   "version": "3.11.5"
  }
 },
 "nbformat": 4,
 "nbformat_minor": 5
}
