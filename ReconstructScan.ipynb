{
 "cells": [
  {
   "cell_type": "markdown",
   "id": "141bbf4e-6e2d-4085-829d-95371883fd92",
   "metadata": {},
   "source": [
    "# Simulate the CT scan"
   ]
  },
  {
   "cell_type": "code",
   "execution_count": 1,
   "id": "9ff14bda-b236-4a2b-bc6e-371edf1ca3e5",
   "metadata": {},
   "outputs": [],
   "source": [
    "import os\n",
    "import matplotlib.pyplot as plt\n",
    "from JSON2gVXRDataReader import *\n",
    "\n",
    "import SimpleITK as sitk\n",
    "\n",
    "from cil.utilities.display import show_geometry\n",
    "from cil.processors import TransmissionAbsorptionConverter\n",
    "from cil.recon import FDK\n",
    "from cil.plugins.astra import FBP\n",
    "from cil.utilities.jupyter import islicer, link_islicer"
   ]
  },
  {
   "cell_type": "code",
   "execution_count": 2,
   "id": "60464d6b-c5fa-4593-989a-2c22272b7d4b",
   "metadata": {},
   "outputs": [],
   "source": [
    "current_folder = str(globals()['_dh'][0])\n",
    "#data_path = \"25OctoberData/\"\n",
    "data_path = \"24NovemberData/\"\n",
    "#data_path=\"15NovemberData/\"\n",
    "#data_path=\"4thOctober_image/\"\n",
    "\n",
    "simulation_JSON_fname = current_folder + \"/\" + data_path + \"/simulation.json\"\n",
    "visible_light_JSON_fname = current_folder + \"/\" + data_path + \"/visible_light.json\""
   ]
  },
  {
   "cell_type": "code",
   "execution_count": 3,
<<<<<<< Updated upstream
   "id": "67d5d776-b5ae-4b30-aad5-637037569520",
   "metadata": {},
   "outputs": [],
   "source": [
    "reader = JSON2gVXRDataReader(file_name=simulation_JSON_fname)\n",
    "simulation_data = reader.read()\n",
    "simulation_data = TransmissionAbsorptionConverter(white_level=simulation_data.max(), min_intensity=1e-5)(simulation_data)\n",
    "\n",
    "reader = JSON2gVXRDataReader(file_name=visible_light_JSON_fname)\n",
    "visible_light_data = reader.read()\n",
    "visible_light_data = TransmissionAbsorptionConverter(white_level=visible_light_data.max(), min_intensity=1e-5)(visible_light_data)"
   ]
  },
  {
   "cell_type": "code",
   "execution_count": 4,
=======
>>>>>>> Stashed changes
   "id": "c1e7eeff-7930-4dfc-8600-2959987fecd0",
   "metadata": {},
   "outputs": [],
   "source": [
    "def reconstruct(data, backend):\n",
    "\n",
    "    data.reorder(order=backend)\n",
    "    ig = data.geometry.get_ImageGeometry()\n",
    "\n",
    "    if backend == \"tigre\":\n",
    "        recons = FDK(data, ig).run()\n",
    "    elif backend == \"astra\":\n",
    "        fbp =  FBP(ig, simulation_data.geometry)\n",
    "        recons = fbp(data)        \n",
    "\n",
    "    return ig, recons\n",
    "\n",
    "def save(fname, recons):\n",
    "# detector_size = np.array(gvxr.getDetectorSize(\"mm\"))\n",
    "# number_of_pixels = np.array(gvxr.getDetectorNumberOfPixels())\n",
    "# spacing = detector_size / number_of_pixels\n",
    "\n",
    "# print(\"CT volume saved in\", \"recons.mha\")\n",
    "\n",
    "    reconstruction_as_array = recons.as_array()\n",
    "    sitk_image = sitk.GetImageFromArray(reconstruction_as_array)\n",
    "    # sitk_image.SetSpacing([spacing[0], spacing[0], spacing[1]])\n",
    "    sitk.WriteImage(sitk_image, fname, useCompression=True)\n"
   ]
  },
  {
   "cell_type": "code",
<<<<<<< Updated upstream
   "execution_count": null,
   "id": "1fbeaebd-24fe-419d-9021-56bb67096cc3",
   "metadata": {},
   "outputs": [],
   "source": []
  },
  {
   "cell_type": "code",
   "execution_count": 5,
=======
   "execution_count": 4,
>>>>>>> Stashed changes
   "id": "23b8b604-8d71-487e-930d-5a4b71abe22c",
   "metadata": {},
   "outputs": [
    {
     "name": "stdout",
     "output_type": "stream",
     "text": [
<<<<<<< Updated upstream
=======
      "distance: 17.600205337874208\n",
      "[640, 480]\n",
      "[0.22999999523162842, 0.22999999523162842]\n",
>>>>>>> Stashed changes
      "FDK recon\n",
      "\n",
      "Input Data:\n",
      "\tangle: 101\n",
<<<<<<< Updated upstream
      "\tvertical: 120\n",
      "\thorizontal: 160\n",
      "\n",
      "Reconstruction Volume:\n",
      "\tvertical: 120\n",
      "\thorizontal_y: 160\n",
      "\thorizontal_x: 160\n",
=======
      "\tvertical: 480\n",
      "\thorizontal: 640\n",
      "\n",
      "Reconstruction Volume:\n",
      "\tvertical: 480\n",
      "\thorizontal_y: 640\n",
      "\thorizontal_x: 640\n",
>>>>>>> Stashed changes
      "\n",
      "Reconstruction Options:\n",
      "\tBackend: tigre\n",
      "\tFilter: ram-lak\n",
      "\tFilter cut-off frequency: 1.0\n",
<<<<<<< Updated upstream
      "\tFFT order: 9\n",
=======
      "\tFFT order: 11\n",
>>>>>>> Stashed changes
      "\tFilter_inplace: False\n",
      "\n"
     ]
    }
   ],
   "source": [
    "simulation_ig, simulation_recons_tigre = reconstruct(simulation_data, \"tigre\")"
   ]
  },
  {
   "cell_type": "code",
<<<<<<< Updated upstream
   "execution_count": 6,
=======
   "execution_count": 5,
>>>>>>> Stashed changes
   "id": "735c1423-e46d-477c-ae18-2613c7a90150",
   "metadata": {},
   "outputs": [
    {
     "name": "stdout",
     "output_type": "stream",
     "text": [
<<<<<<< Updated upstream
      "FDK recon\n",
      "\n",
      "Input Data:\n",
      "\tangle: 101\n",
      "\tvertical: 120\n",
      "\thorizontal: 160\n",
      "\n",
      "Reconstruction Volume:\n",
      "\tvertical: 120\n",
      "\thorizontal_y: 160\n",
      "\thorizontal_x: 160\n",
      "\n",
      "Reconstruction Options:\n",
      "\tBackend: tigre\n",
      "\tFilter: ram-lak\n",
      "\tFilter cut-off frequency: 1.0\n",
      "\tFFT order: 9\n",
      "\tFilter_inplace: False\n",
      "\n"
     ]
    }
   ],
   "source": [
    "visible_light_ig, visible_light_recons_tigre = reconstruct(visible_light_data, \"tigre\")"
   ]
  },
  {
   "cell_type": "code",
   "execution_count": 7,
   "id": "57dd8d7c-2d06-4520-bacd-5572bc9d55c2",
   "metadata": {},
   "outputs": [],
=======
      "distance: 17.600205337874208\n",
      "[640, 480]\n",
      "[0.22999999523162842, 0.22999999523162842]\n"
     ]
    },
    {
     "ename": "ValueError",
     "evalue": "Shape mismatch got (101, 240, 320) expected (101, 480, 640)",
     "output_type": "error",
     "traceback": [
      "\u001b[1;31m---------------------------------------------------------------------------\u001b[0m",
      "\u001b[1;31mValueError\u001b[0m                                Traceback (most recent call last)",
      "Cell \u001b[1;32mIn[5], line 1\u001b[0m\n\u001b[1;32m----> 1\u001b[0m visible_light_data, visible_light_ig, visible_light_recons \u001b[38;5;241m=\u001b[39m \u001b[43mreconstruct\u001b[49m\u001b[43m(\u001b[49m\u001b[43mvisible_light_JSON_fname\u001b[49m\u001b[43m)\u001b[49m\n",
      "Cell \u001b[1;32mIn[3], line 3\u001b[0m, in \u001b[0;36mreconstruct\u001b[1;34m(JSON_fname)\u001b[0m\n\u001b[0;32m      1\u001b[0m \u001b[38;5;28;01mdef\u001b[39;00m \u001b[38;5;21mreconstruct\u001b[39m(JSON_fname):\n\u001b[0;32m      2\u001b[0m     reader \u001b[38;5;241m=\u001b[39m JSON2gVXRDataReader(file_name\u001b[38;5;241m=\u001b[39mJSON_fname)\n\u001b[1;32m----> 3\u001b[0m     data \u001b[38;5;241m=\u001b[39m \u001b[43mreader\u001b[49m\u001b[38;5;241;43m.\u001b[39;49m\u001b[43mread\u001b[49m\u001b[43m(\u001b[49m\u001b[43mverbose\u001b[49m\u001b[38;5;241;43m=\u001b[39;49m\u001b[38;5;241;43m0\u001b[39;49m\u001b[43m)\u001b[49m\n\u001b[0;32m      4\u001b[0m     data\u001b[38;5;241m.\u001b[39mreorder(order\u001b[38;5;241m=\u001b[39m\u001b[38;5;124m'\u001b[39m\u001b[38;5;124mtigre\u001b[39m\u001b[38;5;124m'\u001b[39m)\n\u001b[0;32m      5\u001b[0m     data_corr \u001b[38;5;241m=\u001b[39m TransmissionAbsorptionConverter(white_level\u001b[38;5;241m=\u001b[39mdata\u001b[38;5;241m.\u001b[39mmax(), min_intensity\u001b[38;5;241m=\u001b[39m\u001b[38;5;241m1e-5\u001b[39m)(data)\n",
      "File \u001b[1;32m~\\kbCT\\MyProjects\\JSON2gVXRDataReader.py:233\u001b[0m, in \u001b[0;36mJSON2gVXRDataReader.read\u001b[1;34m(self, verbose)\u001b[0m\n\u001b[0;32m    223\u001b[0m         flat_field_correction \u001b[38;5;241m=\u001b[39m \u001b[38;5;28mbool\u001b[39m(gVXR_params[\u001b[38;5;124m\"\u001b[39m\u001b[38;5;124mScan\u001b[39m\u001b[38;5;124m\"\u001b[39m][\u001b[38;5;124m\"\u001b[39m\u001b[38;5;124mFlat-Field Correction\u001b[39m\u001b[38;5;124m\"\u001b[39m]) \u001b[38;5;28;01mif\u001b[39;00m \u001b[38;5;124m\"\u001b[39m\u001b[38;5;124mFlat-Field Correction\u001b[39m\u001b[38;5;124m\"\u001b[39m \u001b[38;5;129;01min\u001b[39;00m gVXR_params[\u001b[38;5;124m\"\u001b[39m\u001b[38;5;124mScan\u001b[39m\u001b[38;5;124m\"\u001b[39m] \u001b[38;5;28;01melse\u001b[39;00m \u001b[38;5;28;01mFalse\u001b[39;00m\n\u001b[0;32m    225\u001b[0m \u001b[38;5;66;03m#         if flat_field_correction == False:\u001b[39;00m\n\u001b[0;32m    226\u001b[0m \u001b[38;5;66;03m#             k, f, target_unit = json2gvxr.getSpectrum(self.file_name, \"MeV\")\u001b[39;00m\n\u001b[0;32m    227\u001b[0m \u001b[38;5;66;03m#             total_energy_in_MeV = 0.0\u001b[39;00m\n\u001b[1;32m   (...)\u001b[0m\n\u001b[0;32m    230\u001b[0m \n\u001b[0;32m    231\u001b[0m \u001b[38;5;66;03m#             TIFF_data /= total_energy_in_MeV\u001b[39;00m\n\u001b[1;32m--> 233\u001b[0m         data \u001b[38;5;241m=\u001b[39m \u001b[43mAcquisitionData\u001b[49m\u001b[43m(\u001b[49m\u001b[43mTIFF_data\u001b[49m\u001b[43m,\u001b[49m\u001b[43m \u001b[49m\u001b[43mdeep_copy\u001b[49m\u001b[38;5;241;43m=\u001b[39;49m\u001b[38;5;28;43;01mFalse\u001b[39;49;00m\u001b[43m,\u001b[49m\u001b[43m \u001b[49m\u001b[43mgeometry\u001b[49m\u001b[38;5;241;43m=\u001b[39;49m\u001b[43macquisition_geometry\u001b[49m\u001b[43m)\u001b[49m\n\u001b[0;32m    235\u001b[0m         \u001b[38;5;28;01mreturn\u001b[39;00m data\n",
      "File \u001b[1;32m~\\AppData\\Local\\anaconda3\\envs\\kbct\\lib\\site-packages\\cil\\framework\\framework.py:3623\u001b[0m, in \u001b[0;36mAcquisitionData.__init__\u001b[1;34m(self, array, deep_copy, geometry, **kwargs)\u001b[0m\n\u001b[0;32m   3620\u001b[0m     \u001b[38;5;28;01mraise\u001b[39;00m \u001b[38;5;167;01mTypeError\u001b[39;00m(\u001b[38;5;124m'\u001b[39m\u001b[38;5;124marray must be a CIL type DataContainer or numpy.ndarray got \u001b[39m\u001b[38;5;132;01m{}\u001b[39;00m\u001b[38;5;124m'\u001b[39m\u001b[38;5;241m.\u001b[39mformat(\u001b[38;5;28mtype\u001b[39m(array)))\n\u001b[0;32m   3622\u001b[0m \u001b[38;5;28;01mif\u001b[39;00m array\u001b[38;5;241m.\u001b[39mshape \u001b[38;5;241m!=\u001b[39m geometry\u001b[38;5;241m.\u001b[39mshape:\n\u001b[1;32m-> 3623\u001b[0m     \u001b[38;5;28;01mraise\u001b[39;00m \u001b[38;5;167;01mValueError\u001b[39;00m(\u001b[38;5;124m'\u001b[39m\u001b[38;5;124mShape mismatch got \u001b[39m\u001b[38;5;132;01m{}\u001b[39;00m\u001b[38;5;124m expected \u001b[39m\u001b[38;5;132;01m{}\u001b[39;00m\u001b[38;5;124m'\u001b[39m\u001b[38;5;241m.\u001b[39mformat(array\u001b[38;5;241m.\u001b[39mshape, geometry\u001b[38;5;241m.\u001b[39mshape))\n\u001b[0;32m   3625\u001b[0m \u001b[38;5;28msuper\u001b[39m(AcquisitionData, \u001b[38;5;28mself\u001b[39m)\u001b[38;5;241m.\u001b[39m\u001b[38;5;21m__init__\u001b[39m(array, deep_copy, geometry\u001b[38;5;241m=\u001b[39mgeometry,\u001b[38;5;241m*\u001b[39m\u001b[38;5;241m*\u001b[39mkwargs)\n",
      "\u001b[1;31mValueError\u001b[0m: Shape mismatch got (101, 240, 320) expected (101, 480, 640)"
     ]
    }
   ],
>>>>>>> Stashed changes
   "source": [
    "simulation_ig, simulation_recons_astra = reconstruct(simulation_data, \"astra\")"
   ]
  },
  {
   "cell_type": "code",
   "execution_count": 8,
   "id": "1c88aa9d-ad87-432e-91ac-a4db6d026147",
   "metadata": {},
   "outputs": [],
   "source": [
    "visible_light_ig, visible_light_recons_astra = reconstruct(visible_light_data, \"astra\")"
   ]
  },
  {
   "cell_type": "code",
   "execution_count": null,
   "id": "910f65e6-b827-4183-9f16-77876ce69516",
   "metadata": {},
   "outputs": [],
   "source": []
  },
  {
   "cell_type": "code",
   "execution_count": 9,
   "id": "1796506e-942e-47cf-9803-346f29a971b5",
   "metadata": {},
   "outputs": [
    {
     "name": "stdout",
     "output_type": "stream",
     "text": [
      "3D Cone-beam tomography\n",
      "System configuration:\n",
      "\tSource position: [  26.76873456, -186.22371111,  -11.13124801]\n",
      "\tRotation axis position: [ 0.,  0., -0.]\n",
      "\tRotation axis direction: [-0., -0.,  1.]\n",
      "\tDetector position: [-55.09620353, 401.97421787,  22.20368591]\n",
      "\tDetector direction x: [-1.,  0.,  0.]\n",
      "\tDetector direction y: [ 0.,  0., -1.]\n",
      "Panel configuration:\n",
      "\tNumber of pixels: [160 120]\n",
      "\tPixel size: [0.91999998 0.91999998]\n",
      "\tPixel origin: bottom-left\n",
      "Channel configuration:\n",
      "\tNumber of channels: 1\n",
      "Acquisition description:\n",
      "\tNumber of positions: 101\n",
      "\tAngles 0-20 in degrees:\n",
      "[ 0. ,  3.6,  7.2, 10.8, 14.4, 18. , 21.6, 25.2, 28.8, 32.4, 36. , 39.6,\n",
      " 43.2, 46.8, 50.4, 54. , 57.6, 61.2, 64.8, 68.4]\n",
      "Distances in units: mm\n"
     ]
    }
   ],
   "source": [
    "print(simulation_data.geometry)"
   ]
  },
  {
   "cell_type": "code",
   "execution_count": 10,
   "id": "72c94feb-c450-4ff0-9f41-236e926b51f3",
   "metadata": {},
   "outputs": [
    {
     "data": {
      "image/png": "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",
      "text/plain": [
       "<Figure size 1000x1000 with 1 Axes>"
      ]
     },
     "metadata": {},
     "output_type": "display_data"
    },
    {
     "name": "stdout",
     "output_type": "stream",
     "text": [
      "Saved image as C:\\Users\\res52584\\PROGRAMMING\\GitHub\\MyProjects\\24NovemberData\\geometry.png\n"
     ]
    },
    {
     "data": {
      "text/plain": [
       "<Figure size 640x480 with 0 Axes>"
      ]
     },
     "metadata": {},
     "output_type": "display_data"
    }
   ],
   "source": [
    "show_geometry(simulation_data.geometry).save(current_folder + \"/\" + data_path + \"/geometry.png\")"
   ]
  },
  {
   "cell_type": "code",
   "execution_count": null,
   "id": "e17daa05-f130-4f21-8e0c-5e05c569a624",
   "metadata": {},
   "outputs": [],
   "source": []
  },
  {
   "cell_type": "code",
   "execution_count": 11,
   "id": "9708a251-0c91-47f6-8067-177e630720d3",
   "metadata": {},
   "outputs": [
    {
     "data": {
      "application/vnd.jupyter.widget-view+json": {
       "model_id": "dca6ff0c21c842abb2ab5347c1aef23c",
       "version_major": 2,
       "version_minor": 0
      },
      "text/plain": [
       "HBox(children=(Output(), Box(children=(Play(value=60, interval=500, max=119), VBox(children=(Label(value='Slic…"
      ]
     },
     "metadata": {},
     "output_type": "display_data"
    },
    {
     "data": {
      "application/vnd.jupyter.widget-view+json": {
       "model_id": "32c96a743dc84e128fa083d91450122a",
       "version_major": 2,
       "version_minor": 0
      },
      "text/plain": [
       "HBox(children=(Output(), Box(children=(Play(value=60, interval=500, layout=Layout(visibility='hidden'), max=11…"
      ]
     },
     "metadata": {},
     "output_type": "display_data"
    }
   ],
   "source": [
    "sl1_tigre = islicer(simulation_recons_tigre, direction='vertical', title=\"Simulated data reconstructed using Tigre\")\n",
    "sl2_tigre = islicer(visible_light_recons_tigre, direction='vertical', title=\"Experimental data reconstructed using Tigre\")\n",
    "link_islicer(sl1_tigre, sl2_tigre)"
   ]
  },
  {
   "cell_type": "code",
   "execution_count": 12,
   "id": "65b83b1e-6260-4576-9f79-85328035c8f3",
   "metadata": {},
   "outputs": [
    {
     "data": {
      "application/vnd.jupyter.widget-view+json": {
       "model_id": "7b570ccf201c488fa75187186d6a3e10",
       "version_major": 2,
       "version_minor": 0
      },
      "text/plain": [
       "HBox(children=(Output(), Box(children=(Play(value=80, interval=500, max=159), VBox(children=(Label(value='Slic…"
      ]
     },
     "metadata": {},
     "output_type": "display_data"
    },
    {
     "data": {
      "application/vnd.jupyter.widget-view+json": {
       "model_id": "c9b5667057434fa2ad312c989a784e1d",
       "version_major": 2,
       "version_minor": 0
      },
      "text/plain": [
       "HBox(children=(Output(), Box(children=(Play(value=80, interval=500, layout=Layout(visibility='hidden'), max=15…"
      ]
     },
     "metadata": {},
     "output_type": "display_data"
    }
   ],
   "source": [
    "sl3_tigre = islicer(simulation_recons_tigre, direction='horizontal_x', title=\"Simulated data reconstructed using Tigre\")\n",
    "sl4_tigre = islicer(visible_light_recons_tigre, direction='horizontal_x', title=\"Experimental data reconstructed using Tigre\")\n",
    "link_islicer(sl3_tigre, sl4_tigre)"
   ]
  },
  {
   "cell_type": "code",
   "execution_count": 13,
   "id": "a675c92c-989c-44a0-bf9a-d92b323b14e6",
   "metadata": {},
   "outputs": [
    {
     "data": {
      "application/vnd.jupyter.widget-view+json": {
       "model_id": "04949728daac4d418f3f56d86a840955",
       "version_major": 2,
       "version_minor": 0
      },
      "text/plain": [
       "HBox(children=(Output(), Box(children=(Play(value=60, interval=500, max=119), VBox(children=(Label(value='Slic…"
      ]
     },
     "metadata": {},
     "output_type": "display_data"
    },
    {
     "data": {
      "application/vnd.jupyter.widget-view+json": {
       "model_id": "a6e68b3417264bceb1fe2ffe34939673",
       "version_major": 2,
       "version_minor": 0
      },
      "text/plain": [
       "HBox(children=(Output(), Box(children=(Play(value=60, interval=500, layout=Layout(visibility='hidden'), max=11…"
      ]
     },
     "metadata": {},
     "output_type": "display_data"
    }
   ],
   "source": [
    "sl1_astra = islicer(simulation_recons_astra, direction='vertical', title=\"Simulated data reconstructed using Astra\")\n",
    "sl2_astra = islicer(visible_light_recons_astra, direction='vertical', title=\"Experimental data reconstructed using Astra\")\n",
    "link_islicer(sl1_astra, sl2_astra)"
   ]
  },
  {
   "cell_type": "code",
   "execution_count": 14,
   "id": "b23e74ac-9985-4adb-8901-d029ecab998a",
   "metadata": {},
   "outputs": [
    {
     "data": {
      "application/vnd.jupyter.widget-view+json": {
       "model_id": "6bcd609e0660435494d65e44f5b2a343",
       "version_major": 2,
       "version_minor": 0
      },
      "text/plain": [
       "HBox(children=(Output(), Box(children=(Play(value=80, interval=500, max=159), VBox(children=(Label(value='Slic…"
      ]
     },
     "metadata": {},
     "output_type": "display_data"
    },
    {
     "data": {
      "application/vnd.jupyter.widget-view+json": {
       "model_id": "47e2d0f93744488385dbba88ca19948e",
       "version_major": 2,
       "version_minor": 0
      },
      "text/plain": [
       "HBox(children=(Output(), Box(children=(Play(value=80, interval=500, layout=Layout(visibility='hidden'), max=15…"
      ]
     },
     "metadata": {},
     "output_type": "display_data"
    }
   ],
   "source": [
    "sl3_astra = islicer(simulation_recons_astra, direction='horizontal_x', title=\"Simulated data reconstructed using Astra\")\n",
    "sl4_astra = islicer(visible_light_recons_astra, direction='horizontal_x', title=\"Experimental data reconstructed using Astra\")\n",
    "link_islicer(sl3_astra, sl4_astra)"
   ]
  },
  {
   "cell_type": "code",
   "execution_count": 15,
   "id": "3ddcc81e-a2a3-480b-9376-8a8fdf27c3d9",
   "metadata": {},
   "outputs": [],
   "source": [
    "fname = current_folder + \"/\" + data_path + \"/simulation-FDK-tigre.mha\"\n",
    "if not os.path.exists(fname):\n",
    "    save(fname, simulation_recons_tigre)"
   ]
  },
  {
   "cell_type": "code",
   "execution_count": 16,
   "id": "ce656713-908c-483e-90b0-c6f0da82a0d8",
   "metadata": {
    "tags": []
   },
   "outputs": [],
   "source": [
    "fname = current_folder + \"/\" + data_path + \"/visible_light-FDK-tigre.mha\"\n",
    "if not os.path.exists(fname):\n",
    "    save(fname, visible_light_recons_tigre)"
   ]
  },
  {
   "cell_type": "code",
   "execution_count": 17,
   "id": "650d7bd2-c902-415b-908a-683c6a6d6b04",
   "metadata": {},
   "outputs": [],
   "source": [
    "fname = current_folder + \"/\" + data_path + \"/simulation-FDK-astra.mha\"\n",
    "if not os.path.exists(fname):\n",
    "    save(fname, simulation_recons_astra)"
   ]
  },
  {
   "cell_type": "code",
   "execution_count": 18,
   "id": "925e217e-ceb2-4da8-9465-62e9d08d96ee",
   "metadata": {
    "tags": []
   },
   "outputs": [],
   "source": [
    "fname = current_folder + \"/\" + data_path + \"/visible_light-FDK-astra.mha\"\n",
    "if not os.path.exists(fname):\n",
    "    save(fname, visible_light_recons_astra)"
   ]
  }
 ],
 "metadata": {
  "kernelspec": {
   "display_name": "Python 3 (ipykernel)",
   "language": "python",
   "name": "python3"
  },
  "language_info": {
   "codemirror_mode": {
    "name": "ipython",
    "version": 3
   },
   "file_extension": ".py",
   "mimetype": "text/x-python",
   "name": "python",
   "nbconvert_exporter": "python",
   "pygments_lexer": "ipython3",
   "version": "3.9.18"
  }
 },
 "nbformat": 4,
 "nbformat_minor": 5
}
