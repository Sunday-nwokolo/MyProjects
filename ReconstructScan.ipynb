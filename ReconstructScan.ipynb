{
 "cells": [
  {
   "cell_type": "markdown",
   "id": "141bbf4e-6e2d-4085-829d-95371883fd92",
   "metadata": {},
   "source": [
    "# Simulate the CT scan"
   ]
  },
  {
   "cell_type": "code",
   "execution_count": null,
   "id": "9ff14bda-b236-4a2b-bc6e-371edf1ca3e5",
   "metadata": {},
   "outputs": [],
   "source": [
    "import os\n",
    "import matplotlib.pyplot as plt\n",
    "from JSON2gVXRDataReader import *\n",
    "\n",
    "import SimpleITK as sitk\n",
    "\n",
    "from cil.utilities.display import show_geometry\n",
    "from cil.processors import TransmissionAbsorptionConverter\n",
    "from cil.recon import FDK\n",
    "from cil.plugins.astra import FBP\n",
    "from cil.utilities.jupyter import islicer, link_islicer"
   ]
  },
  {
   "cell_type": "code",
   "execution_count": null,
   "id": "60464d6b-c5fa-4593-989a-2c22272b7d4b",
   "metadata": {},
   "outputs": [],
   "source": [
    "current_folder = str(globals()['_dh'][0])\n",
    "data_path = \"25OctoberData/\"\n",
    "# data_path = \"24NovemberData/\"\n",
    "#data_path=\"15NovemberData/\"\n",
    "#data_path=\"4thOctober_image/\"\n",
    "\n",
    "simulation_JSON_fname = current_folder + \"/\" + data_path + \"/simulation.json\"\n",
    "visible_light_JSON_fname = current_folder + \"/\" + data_path + \"/visible_light.json\""
   ]
  },
  {
   "cell_type": "code",
   "execution_count": null,
   "id": "67d5d776-b5ae-4b30-aad5-637037569520",
   "metadata": {},
   "outputs": [],
   "source": [
    "reader = JSON2gVXRDataReader(file_name=simulation_JSON_fname)\n",
    "simulation_data = reader.read()\n",
    "simulation_data = TransmissionAbsorptionConverter(white_level=simulation_data.max(), min_intensity=1e-5)(simulation_data)\n",
    "\n",
    "reader = JSON2gVXRDataReader(file_name=visible_light_JSON_fname)\n",
    "visible_light_data = reader.read()\n",
    "visible_light_data = TransmissionAbsorptionConverter(white_level=visible_light_data.max(), min_intensity=1e-5)(visible_light_data)"
   ]
  },
  {
   "cell_type": "code",
   "execution_count": null,
   "id": "c1e7eeff-7930-4dfc-8600-2959987fecd0",
   "metadata": {},
   "outputs": [],
   "source": [
    "def reconstruct(data, backend):\n",
    "\n",
    "    data.reorder(order=backend)\n",
    "    ig = data.geometry.get_ImageGeometry()\n",
    "\n",
    "    if backend == \"tigre\":\n",
    "        recons = FDK(data, ig).run()\n",
    "    elif backend == \"astra\":\n",
    "        fbp =  FBP(ig, simulation_data.geometry)\n",
    "        recons = fbp(data)        \n",
    "\n",
    "    return ig, recons\n",
    "\n",
    "def save(fname, recons):\n",
    "# detector_size = np.array(gvxr.getDetectorSize(\"mm\"))\n",
    "# number_of_pixels = np.array(gvxr.getDetectorNumberOfPixels())\n",
    "# spacing = detector_size / number_of_pixels\n",
    "\n",
    "# print(\"CT volume saved in\", \"recons.mha\")\n",
    "\n",
    "    reconstruction_as_array = recons.as_array()\n",
    "    sitk_image = sitk.GetImageFromArray(reconstruction_as_array)\n",
    "    # sitk_image.SetSpacing([spacing[0], spacing[0], spacing[1]])\n",
    "    sitk.WriteImage(sitk_image, fname, useCompression=True)\n"
   ]
  },
  {
   "cell_type": "code",
   "execution_count": null,
   "id": "1fbeaebd-24fe-419d-9021-56bb67096cc3",
   "metadata": {},
   "outputs": [],
   "source": []
  },
  {
   "cell_type": "code",
   "execution_count": null,
   "id": "23b8b604-8d71-487e-930d-5a4b71abe22c",
   "metadata": {},
   "outputs": [],
   "source": [
    "simulation_ig, simulation_recons_tigre = reconstruct(simulation_data, \"tigre\")"
   ]
  },
  {
   "cell_type": "code",
   "execution_count": null,
   "id": "735c1423-e46d-477c-ae18-2613c7a90150",
   "metadata": {},
   "outputs": [],
   "source": [
    "visible_light_ig, visible_light_recons_tigre = reconstruct(visible_light_data, \"tigre\")"
   ]
  },
  {
   "cell_type": "code",
   "execution_count": null,
   "id": "57dd8d7c-2d06-4520-bacd-5572bc9d55c2",
   "metadata": {},
   "outputs": [],
   "source": [
    "simulation_ig, simulation_recons_astra = reconstruct(simulation_data, \"astra\")"
   ]
  },
  {
   "cell_type": "code",
   "execution_count": null,
   "id": "1c88aa9d-ad87-432e-91ac-a4db6d026147",
   "metadata": {},
   "outputs": [],
   "source": [
    "visible_light_ig, visible_light_recons_astra = reconstruct(visible_light_data, \"astra\")"
   ]
  },
  {
   "cell_type": "code",
   "execution_count": null,
   "id": "910f65e6-b827-4183-9f16-77876ce69516",
   "metadata": {},
   "outputs": [],
   "source": []
  },
  {
   "cell_type": "code",
   "execution_count": null,
   "id": "1796506e-942e-47cf-9803-346f29a971b5",
   "metadata": {},
   "outputs": [],
   "source": [
    "print(simulation_data.geometry)"
   ]
  },
  {
   "cell_type": "code",
   "execution_count": null,
   "id": "72c94feb-c450-4ff0-9f41-236e926b51f3",
   "metadata": {},
   "outputs": [],
   "source": [
    "show_geometry(simulation_data.geometry).save(current_folder + \"/\" + data_path + \"/geometry.png\")"
   ]
  },
  {
   "cell_type": "code",
   "execution_count": null,
   "id": "e17daa05-f130-4f21-8e0c-5e05c569a624",
   "metadata": {},
   "outputs": [],
   "source": []
  },
  {
   "cell_type": "code",
   "execution_count": null,
   "id": "9708a251-0c91-47f6-8067-177e630720d3",
   "metadata": {},
   "outputs": [],
   "source": [
    "sl1_tigre = islicer(simulation_recons_tigre, direction='vertical', title=\"Simulated data reconstructed using Tigre\")\n",
    "sl2_tigre = islicer(visible_light_recons_tigre, direction='vertical', title=\"Experimental data reconstructed using Tigre\")\n",
    "link_islicer(sl1_tigre, sl2_tigre)"
   ]
  },
  {
   "cell_type": "code",
   "execution_count": null,
   "id": "65b83b1e-6260-4576-9f79-85328035c8f3",
   "metadata": {},
   "outputs": [],
   "source": [
    "sl3_tigre = islicer(simulation_recons_tigre, direction='horizontal_x', title=\"Simulated data reconstructed using Tigre\")\n",
    "sl4_tigre = islicer(visible_light_recons_tigre, direction='horizontal_x', title=\"Experimental data reconstructed using Tigre\")\n",
    "link_islicer(sl3_tigre, sl4_tigre)"
   ]
  },
  {
   "cell_type": "code",
   "execution_count": null,
   "id": "a675c92c-989c-44a0-bf9a-d92b323b14e6",
   "metadata": {},
   "outputs": [],
   "source": [
    "sl1_astra = islicer(simulation_recons_astra, direction='vertical', title=\"Simulated data reconstructed using Astra\")\n",
    "sl2_astra = islicer(visible_light_recons_astra, direction='vertical', title=\"Experimental data reconstructed using Astra\")\n",
    "link_islicer(sl1_astra, sl2_astra)"
   ]
  },
  {
   "cell_type": "code",
   "execution_count": null,
   "id": "b23e74ac-9985-4adb-8901-d029ecab998a",
   "metadata": {},
   "outputs": [],
   "source": [
    "sl3_astra = islicer(simulation_recons_astra, direction='horizontal_x', title=\"Simulated data reconstructed using Astra\")\n",
    "sl4_astra = islicer(visible_light_recons_astra, direction='horizontal_x', title=\"Experimental data reconstructed using Astra\")\n",
    "link_islicer(sl3_astra, sl4_astra)"
   ]
  },
  {
   "cell_type": "code",
   "execution_count": null,
   "id": "3ddcc81e-a2a3-480b-9376-8a8fdf27c3d9",
   "metadata": {},
   "outputs": [],
   "source": [
    "fname = current_folder + \"/\" + data_path + \"/simulation-FDK-tigre.mha\"\n",
    "if not os.path.exists(fname):\n",
    "    save(fname, simulation_recons_tigre)"
   ]
  },
  {
   "cell_type": "code",
   "execution_count": null,
   "id": "ce656713-908c-483e-90b0-c6f0da82a0d8",
   "metadata": {
    "tags": []
   },
   "outputs": [],
   "source": [
    "fname = current_folder + \"/\" + data_path + \"/visible_light-FDK-tigre.mha\"\n",
    "if not os.path.exists(fname):\n",
    "    save(fname, visible_light_recons_tigre)"
   ]
  },
  {
   "cell_type": "code",
   "execution_count": null,
   "id": "650d7bd2-c902-415b-908a-683c6a6d6b04",
   "metadata": {},
   "outputs": [],
   "source": [
    "fname = current_folder + \"/\" + data_path + \"/simulation-FDK-astra.mha\"\n",
    "if not os.path.exists(fname):\n",
    "    save(fname, simulation_recons_astra)"
   ]
  },
  {
   "cell_type": "code",
   "execution_count": null,
   "id": "925e217e-ceb2-4da8-9465-62e9d08d96ee",
   "metadata": {
    "tags": []
   },
   "outputs": [],
   "source": [
    "fname = current_folder + \"/\" + data_path + \"/visible_light-FDK-astra.mha\"\n",
    "if not os.path.exists(fname):\n",
    "    save(fname, visible_light_recons_astra)"
   ]
  }
 ],
 "metadata": {
  "kernelspec": {
   "display_name": "Python 3 (ipykernel)",
   "language": "python",
   "name": "python3"
  },
  "language_info": {
   "codemirror_mode": {
    "name": "ipython",
    "version": 3
   },
   "file_extension": ".py",
   "mimetype": "text/x-python",
   "name": "python",
   "nbconvert_exporter": "python",
   "pygments_lexer": "ipython3",
   "version": "3.10.13"
  }
 },
 "nbformat": 4,
 "nbformat_minor": 5
}
