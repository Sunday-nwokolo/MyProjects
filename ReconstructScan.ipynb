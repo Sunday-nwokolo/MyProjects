{
 "cells": [
  {
   "cell_type": "markdown",
   "id": "141bbf4e-6e2d-4085-829d-95371883fd92",
   "metadata": {},
   "source": [
    "# Simulate the CT scan"
   ]
  },
  {
   "cell_type": "code",
   "execution_count": null,
   "id": "9ff14bda-b236-4a2b-bc6e-371edf1ca3e5",
   "metadata": {},
   "outputs": [],
   "source": [
    "import os\n",
    "import matplotlib.pyplot as plt\n",
    "from JSON2gVXRDataReader import *\n",
    "\n",
    "import SimpleITK as sitk\n",
    "\n",
    "from cil.utilities.display import show_geometry\n",
    "from cil.processors import TransmissionAbsorptionConverter\n",
    "from cil.recon import FDK\n",
    "from cil.utilities.jupyter import islicer"
   ]
  },
  {
   "cell_type": "code",
   "execution_count": null,
   "id": "60464d6b-c5fa-4593-989a-2c22272b7d4b",
   "metadata": {},
   "outputs": [],
   "source": [
    "current_folder = str(globals()['_dh'][0])\n",
    "data_path = \"25OctoberData/\"\n",
    "simulation_JSON_fname = current_folder + \"/\" + data_path + \"/simulation.json\"\n",
    "visible_light_JSON_fname = current_folder + \"/\" + data_path + \"/visible_light.json\""
   ]
  },
  {
   "cell_type": "code",
   "execution_count": null,
   "id": "c1e7eeff-7930-4dfc-8600-2959987fecd0",
   "metadata": {},
   "outputs": [],
   "source": [
    "def reconstruct(JSON_fname):\n",
    "    reader = JSON2gVXRDataReader(file_name=JSON_fname)\n",
    "    data = reader.read(verbose=0)\n",
    "    data.reorder(order='tigre')\n",
    "    data_corr = TransmissionAbsorptionConverter(white_level=data.max())(data)\n",
    "    ig = data.geometry.get_ImageGeometry()\n",
    "    recons = FDK(data_corr, ig).run()\n",
    "    \n",
    "    return data, ig, recons\n",
    "\n",
    "def save(fname, recons):\n",
    "# detector_size = np.array(gvxr.getDetectorSize(\"mm\"))\n",
    "# number_of_pixels = np.array(gvxr.getDetectorNumberOfPixels())\n",
    "# spacing = detector_size / number_of_pixels\n",
    "\n",
    "# print(\"CT volume saved in\", \"recons.mha\")\n",
    "\n",
    "    reconstruction_as_array = recons.as_array()\n",
    "    sitk_image = sitk.GetImageFromArray(reconstruction_as_array)\n",
    "    # sitk_image.SetSpacing([spacing[0], spacing[0], spacing[1]])\n",
    "    sitk.WriteImage(sitk_image, fname, useCompression=True)\n"
   ]
  },
  {
   "cell_type": "code",
   "execution_count": null,
   "id": "23b8b604-8d71-487e-930d-5a4b71abe22c",
   "metadata": {},
   "outputs": [],
   "source": [
    "simulation_data, simulation_ig, simulation_recons = reconstruct(simulation_JSON_fname)\n",
    "visible_light_data, visible_light_ig, visible_light_recons = reconstruct(visible_light_JSON_fname)"
   ]
  },
  {
   "cell_type": "code",
   "execution_count": null,
   "id": "1796506e-942e-47cf-9803-346f29a971b5",
   "metadata": {},
   "outputs": [],
   "source": [
    "print(simulation_data.geometry)"
   ]
  },
  {
   "cell_type": "code",
   "execution_count": null,
   "id": "72c94feb-c450-4ff0-9f41-236e926b51f3",
   "metadata": {},
   "outputs": [],
   "source": [
    "show_geometry(simulation_data.geometry).save(current_folder + \"/\" + data_path + \"/geometry.png\")"
   ]
  },
  {
   "cell_type": "code",
   "execution_count": null,
   "id": "65b83b1e-6260-4576-9f79-85328035c8f3",
   "metadata": {},
   "outputs": [],
   "source": [
    "islicer(simulation_recons, direction='vertical')"
   ]
  },
  {
   "cell_type": "code",
   "execution_count": null,
   "id": "dc4f3f9c-e9c7-4a2d-86da-99ec844b8cb7",
   "metadata": {},
   "outputs": [],
   "source": [
    "islicer(simulation_recons, direction='horizontal_x')"
   ]
  },
  {
   "cell_type": "code",
   "execution_count": null,
   "id": "8ee5d494-eb9b-4531-85c3-67caa67aca1a",
   "metadata": {},
   "outputs": [],
   "source": [
    "islicer(visible_light_recons, direction='vertical')"
   ]
  },
  {
   "cell_type": "code",
   "execution_count": null,
   "id": "a243d42d-b24f-478f-9d9a-e5f2a23edab3",
   "metadata": {},
   "outputs": [],
   "source": [
    "islicer(visible_light_recons, direction='horizontal_x')"
   ]
  },
  {
   "cell_type": "code",
   "execution_count": null,
   "id": "3ddcc81e-a2a3-480b-9376-8a8fdf27c3d9",
   "metadata": {},
   "outputs": [],
   "source": [
    "save(current_folder + \"/\" + data_path + \"/simulation.mha\", simulation_recons)"
   ]
  },
  {
   "cell_type": "code",
   "execution_count": null,
   "id": "ce656713-908c-483e-90b0-c6f0da82a0d8",
   "metadata": {},
   "outputs": [],
   "source": [
    "save(current_folder + \"/\" + data_path + \"/visible_light.mha\", visible_light_recons)"
   ]
  }
 ],
 "metadata": {
  "kernelspec": {
   "display_name": "Python 3 (ipykernel)",
   "language": "python",
   "name": "python3"
  },
  "language_info": {
   "codemirror_mode": {
    "name": "ipython",
    "version": 3
   },
   "file_extension": ".py",
   "mimetype": "text/x-python",
   "name": "python",
   "nbconvert_exporter": "python",
   "pygments_lexer": "ipython3",
   "version": "3.10.13"
  }
 },
 "nbformat": 4,
 "nbformat_minor": 5
}
