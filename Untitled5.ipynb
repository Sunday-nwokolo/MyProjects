{
 "cells": [
  {
   "cell_type": "code",
   "execution_count": 8,
   "id": "c5f6b208",
   "metadata": {},
   "outputs": [
    {
     "name": "stdout",
     "output_type": "stream",
     "text": [
      "b'II*\\x00'\n"
     ]
    }
   ],
   "source": [
    "with open('C:/Users/snn23kfl/project/4thOctober_image/raw_images/raw_image_0.tiff', 'rb') as f:\n",
    "    header = f.read(4)\n",
    "print(header)"
   ]
  },
  {
   "cell_type": "code",
   "execution_count": 6,
   "id": "9fdcf363",
   "metadata": {},
   "outputs": [],
   "source": [
    "# from PIL import Image\n",
    "# import os\n",
    "\n",
    "# directory_path = 'C:/Users/snn23kfl/project/4thOctober_image/raw_images/'\n",
    "\n",
    "# # Loop through all files in the directory\n",
    "# for filename in os.listdir(directory_path):\n",
    "#     # Check if the file has a .jpg extension\n",
    "#     if filename.endswith('.jpg'):\n",
    "#         with Image.open(os.path.join(directory_path, filename)) as img:\n",
    "#             img.save(os.path.join(directory_path, filename.replace('.jpg', '.tiff')), 'TIFF')"
   ]
  },
  {
   "cell_type": "code",
   "execution_count": 9,
   "id": "00cb5931",
   "metadata": {},
   "outputs": [],
   "source": []
  },
  {
   "cell_type": "code",
   "execution_count": 10,
   "id": "963a6e9f",
   "metadata": {},
   "outputs": [],
   "source": []
  },
  {
   "cell_type": "code",
   "execution_count": null,
   "id": "e91c2b9e",
   "metadata": {},
   "outputs": [],
   "source": []
  }
 ],
 "metadata": {
  "kernelspec": {
   "display_name": "Python 3 (ipykernel)",
   "language": "python",
   "name": "python3"
  },
  "language_info": {
   "codemirror_mode": {
    "name": "ipython",
    "version": 3
   },
   "file_extension": ".py",
   "mimetype": "text/x-python",
   "name": "python",
   "nbconvert_exporter": "python",
   "pygments_lexer": "ipython3",
   "version": "3.11.5"
  }
 },
 "nbformat": 4,
 "nbformat_minor": 5
}
