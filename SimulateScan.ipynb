{
 "cells": [
  {
   "cell_type": "markdown",
   "id": "141bbf4e-6e2d-4085-829d-95371883fd92",
   "metadata": {},
   "source": [
    "# Simulate the CT scan"
   ]
  },
  {
   "cell_type": "code",
   "execution_count": 1,
   "id": "9ff14bda-b236-4a2b-bc6e-371edf1ca3e5",
   "metadata": {},
   "outputs": [
    {
     "name": "stderr",
     "output_type": "stream",
     "text": [
      "Tue Nov 21 14:49:01 2023 (WW) Spekpy is not installed, try Xpecgen instead.\n",
      "Tue Nov 21 14:49:01 2023 (WW) Xpecgen is not installed either.\n"
     ]
    },
    {
     "name": "stdout",
     "output_type": "stream",
     "text": [
      "spekpy is not install, you won't be able to load a beam spectrum using spekpy\n",
      "xpecgen is not install, you won't be able to load a beam spectrum using xpecgen\n",
      "SimpleGVXR 2.0.8 (2023-11-20T14:28:40) [Compiler: GNU g++] on Linux\n",
      "gVirtualXRay core library (gvxr) 2.0.8 (2023-11-20T14:28:40) [Compiler: GNU g++] on Linux\n"
     ]
    }
   ],
   "source": [
    "import os\n",
    "import numpy as np\n",
    "from gvxrPython3 import gvxr\n",
    "# from gvxrPython3 import json2gvxr\n",
    "import json2gvxr"
   ]
  },
  {
   "cell_type": "code",
   "execution_count": 2,
   "id": "60464d6b-c5fa-4593-989a-2c22272b7d4b",
   "metadata": {},
   "outputs": [],
   "source": [
    "current_folder = str(globals()['_dh'][0])\n",
    "data_path = \"25OctoberData/\"\n",
    "JSON_fname = current_folder + \"/\" + data_path + \"/simulation.json\""
   ]
  },
  {
   "cell_type": "code",
   "execution_count": 3,
   "id": "ac60860f-d05c-4fc6-bf18-e25827043f95",
   "metadata": {},
   "outputs": [
    {
     "name": "stdout",
     "output_type": "stream",
     "text": [
      "Create an OpenGL context: 800x600\n"
     ]
    },
    {
     "name": "stderr",
     "output_type": "stream",
     "text": [
      "Tue Nov 21 14:49:02 2023 ---- Create window (ID: -1)\n",
      "Tue Nov 21 14:49:02 2023 ---- Initialise GLFW\n",
      "Tue Nov 21 14:49:02 2023 ---- Create an OpenGL window with a 3.2 context.\n",
      "Tue Nov 21 14:49:02 2023 ---- Make the window's context current\n",
      "Tue Nov 21 14:49:02 2023 ---- Initialise GLEW\n",
      "Tue Nov 21 14:49:02 2023 ---- OpenGL vendor: NVIDIA Corporation\n",
      "Tue Nov 21 14:49:02 2023 ---- OpenGL renderer: NVIDIA GeForce RTX 4060 Ti/PCIe/SSE2\n",
      "Tue Nov 21 14:49:02 2023 ---- OpenGL version: 3.2.0 NVIDIA 535.104.05\n",
      "Tue Nov 21 14:49:02 2023 ---- Use OpenGL 4.5.\n",
      "Tue Nov 21 14:49:02 2023 ---- Initialise the X-ray renderer if needed and if possible\n"
     ]
    }
   ],
   "source": [
    "# Create an OpenGL context\n",
    "# MS Windows\n",
    "if os.name == \"nt\":\n",
    "    json2gvxr.initGVXR(JSON_fname, \"OPENGL\")\n",
    "# MacOS\n",
    "elif str(os.uname()).find(\"Darwin\") >= 0:\n",
    "    json2gvxr.initGVXR(JSON_fname, \"OPENGL\")\n",
    "else:\n",
    "    json2gvxr.initGVXR(JSON_fname, \"OPENGL\")"
   ]
  },
  {
   "cell_type": "code",
   "execution_count": 4,
   "id": "2608ab84-6b93-4631-9ae1-dd392230c390",
   "metadata": {},
   "outputs": [
    {
     "name": "stdout",
     "output_type": "stream",
     "text": [
      "Set up the detector\n",
      "\tDetector position: [-73.12152758317144, 141.248486584599, -23.53249167413764, 'mm']\n",
      "\tDetector up vector: [0.0, 0.0, -1.0]\n",
      "\tNumber of pixels: [640, 480]\n",
      "\tDetector number of pixels: [640, 480]\n",
      "\tPixel spacing: [0.22999999523162842, 0.2300000031789144, 'mm']\n",
      "Set up the beam\n",
      "\tSource position: [15.483415159227746, -100.9887572476573, -6.016218081687421, 'mm']\n",
      "\tSource shape: PointSource\n"
     ]
    },
    {
     "name": "stderr",
     "output_type": "stream",
     "text": [
      "Tue Nov 21 14:49:02 2023 ---- Initialise the renderer\n"
     ]
    },
    {
     "data": {
      "text/plain": [
       "({85.16831696033478: 1.0}, 'keV', array([85.16831696]), array([1.]))"
      ]
     },
     "execution_count": 4,
     "metadata": {},
     "output_type": "execute_result"
    }
   ],
   "source": [
    "json2gvxr.initDetector(JSON_fname)\n",
    "json2gvxr.initSourceGeometry()\n",
    "json2gvxr.initSpectrum()"
   ]
  },
  {
   "cell_type": "code",
   "execution_count": 5,
   "id": "d24f09e4-8368-4aa7-b111-2483def6ddb0",
   "metadata": {},
   "outputs": [
    {
     "name": "stdout",
     "output_type": "stream",
     "text": [
      "((0.7247985005378723, -0.6882132291793823, -0.0320882722735405, 0.0), (0.0, -0.04657488316297531, 0.9989147782325745, 0.0), (-0.6889609098434448, -0.7240119576454163, -0.03375740721821785, 0.0), (-8.855688095092773, -34.770164489746094, -9.139907836914062, 1.0))\n",
      "((0.7247985005378723, -0.6882132291793823, -0.0320882722735405, 0.0), (0.0, -0.04657488316297531, 0.9989147782325745, 0.0), (-0.6889609098434448, -0.7240119576454163, -0.03375740721821785, 0.0), (-8.855688095092773, -34.770164489746094, -9.139907836914062, 1.0))\n"
     ]
    },
    {
     "name": "stderr",
     "output_type": "stream",
     "text": [
      "Tue Nov 21 14:49:02 2023 ---- file_name:\t/home/fpvidal/PROGRAMMING/GitHub/MyProjects/25OctoberData/../Rabbit.stl\tnb_faces:\t"
     ]
    },
    {
     "data": {
      "text/plain": [
       "(-8.880859375,\n",
       " -51.932525634765625,\n",
       " -21.05350112915039,\n",
       " -8.830514907836914,\n",
       " -17.607803344726562,\n",
       " 2.773686408996582)"
      ]
     },
     "execution_count": 5,
     "metadata": {},
     "output_type": "execute_result"
    },
    {
     "name": "stderr",
     "output_type": "stream",
     "text": [
      "75710\tnb_vertices:\t227130\tbounding_box (in cm):\t(-1.14473, -1.27, -1.20062)\t(1.14473, 1.27, 1.20062)\n"
     ]
    }
   ],
   "source": [
    "json2gvxr.initSamples(JSON_fname)\n",
    "\n",
    "gvxr.setZoom(311.3316345214844)\n",
    "gvxr.setSceneRotationMatrix((0.8873608708381653, -0.03796194866299629, 0.45950955152511597, 0.0, -0.12802009284496307, 0.9371330738067627, 0.32464298605918884, 0.0, -0.4429444968700409, -0.34690162539482117, 0.826717734336853, 0.0, 0.0, 0.0, 0.0, 1.0))\n",
    "\n",
    "label = \"Rabbit\"\n",
    "\n",
    "print(gvxr.getNodeLocalTransformationMatrix(label))\n",
    "print(gvxr.getNodeWorldTransformationMatrix(label))\n",
    "gvxr.getNodeAndChildrenBoundingBox(\"Rabbit\", \"mm\")\n"
   ]
  },
  {
   "cell_type": "code",
   "execution_count": 6,
   "id": "0d5b9068-3f9c-4976-a2cd-5a5bb07bb45b",
   "metadata": {},
   "outputs": [
    {
     "name": "stdout",
     "output_type": "stream",
     "text": [
      "Set up the CT Scan\n"
     ]
    }
   ],
   "source": [
    "json2gvxr.initScan()"
   ]
  },
  {
   "cell_type": "code",
   "execution_count": 7,
   "id": "88a66f7f-6d45-427b-8e33-c63cc3846b35",
   "metadata": {},
   "outputs": [],
   "source": [
    "angles = json2gvxr.doCTScan(verbose=0)"
   ]
  },
  {
   "cell_type": "code",
   "execution_count": null,
   "id": "bc6d4273-590d-4157-aa27-f00215e6e94f",
   "metadata": {},
   "outputs": [],
   "source": []
  }
 ],
 "metadata": {
  "kernelspec": {
   "display_name": "Python 3 (ipykernel)",
   "language": "python",
   "name": "python3"
  },
  "language_info": {
   "codemirror_mode": {
    "name": "ipython",
    "version": 3
   },
   "file_extension": ".py",
   "mimetype": "text/x-python",
   "name": "python",
   "nbconvert_exporter": "python",
   "pygments_lexer": "ipython3",
   "version": "3.10.13"
  }
 },
 "nbformat": 4,
 "nbformat_minor": 5
}
