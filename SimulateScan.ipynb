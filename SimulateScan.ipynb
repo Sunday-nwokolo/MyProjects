{
 "cells": [
  {
   "cell_type": "markdown",
   "id": "141bbf4e-6e2d-4085-829d-95371883fd92",
   "metadata": {},
   "source": [
    "# Simulate the CT scan"
   ]
  },
  {
   "cell_type": "code",
   "execution_count": null,
   "id": "9ff14bda-b236-4a2b-bc6e-371edf1ca3e5",
   "metadata": {},
   "outputs": [],
   "source": [
    "import os\n",
    "import numpy as np\n",
    "from gvxrPython3 import gvxr\n",
    "# from gvxrPython3 import json2gvxr\n",
    "import json2gvxr"
   ]
  },
  {
   "cell_type": "code",
   "execution_count": null,
   "id": "60464d6b-c5fa-4593-989a-2c22272b7d4b",
   "metadata": {},
   "outputs": [],
   "source": [
    "current_folder = str(globals()['_dh'][0])\n",
    "data_path = \"25OctoberData/\"\n",
    "JSON_fname = current_folder + \"/\" + data_path + \"/simulation.json\""
   ]
  },
  {
   "cell_type": "code",
   "execution_count": null,
   "id": "ac60860f-d05c-4fc6-bf18-e25827043f95",
   "metadata": {},
   "outputs": [],
   "source": [
    "# Create an OpenGL context\n",
    "# MS Windows\n",
    "if os.name == \"nt\":\n",
    "    json2gvxr.initGVXR(JSON_fname, \"OPENGL\")\n",
    "# MacOS\n",
    "elif str(os.uname()).find(\"Darwin\") >= 0:\n",
    "    json2gvxr.initGVXR(JSON_fname, \"OPENGL\")\n",
    "else:\n",
    "    json2gvxr.initGVXR(JSON_fname, \"OPENGL\")"
   ]
  },
  {
   "cell_type": "code",
   "execution_count": null,
   "id": "2608ab84-6b93-4631-9ae1-dd392230c390",
   "metadata": {},
   "outputs": [],
   "source": [
    "json2gvxr.initDetector(JSON_fname)\n",
    "json2gvxr.initSourceGeometry()\n",
    "json2gvxr.initSpectrum()\n",
    "json2gvxr.initSamples(JSON_fname)"
   ]
  },
  {
   "cell_type": "code",
   "execution_count": null,
   "id": "0d5b9068-3f9c-4976-a2cd-5a5bb07bb45b",
   "metadata": {},
   "outputs": [],
   "source": [
    "json2gvxr.initScan()"
   ]
  },
  {
   "cell_type": "code",
   "execution_count": null,
   "id": "88a66f7f-6d45-427b-8e33-c63cc3846b35",
   "metadata": {},
   "outputs": [],
   "source": [
    "angles = json2gvxr.doCTScan(verbose=0)"
   ]
  },
  {
   "cell_type": "code",
   "execution_count": null,
   "id": "bc6d4273-590d-4157-aa27-f00215e6e94f",
   "metadata": {},
   "outputs": [],
   "source": []
  }
 ],
 "metadata": {
  "kernelspec": {
   "display_name": "Python 3 (ipykernel)",
   "language": "python",
   "name": "python3"
  },
  "language_info": {
   "codemirror_mode": {
    "name": "ipython",
    "version": 3
   },
   "file_extension": ".py",
   "mimetype": "text/x-python",
   "name": "python",
   "nbconvert_exporter": "python",
   "pygments_lexer": "ipython3",
   "version": "3.10.13"
  }
 },
 "nbformat": 4,
 "nbformat_minor": 5
}
