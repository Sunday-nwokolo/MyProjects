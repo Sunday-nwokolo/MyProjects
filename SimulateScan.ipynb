{
 "cells": [
  {
   "cell_type": "markdown",
   "id": "141bbf4e-6e2d-4085-829d-95371883fd92",
   "metadata": {},
   "source": [
    "# Simulate the CT scan"
   ]
  },
  {
   "cell_type": "code",
   "execution_count": 1,
   "id": "9ff14bda-b236-4a2b-bc6e-371edf1ca3e5",
   "metadata": {},
   "outputs": [
    {
     "name": "stdout",
     "output_type": "stream",
     "text": [
      "spekpy is not install, you won't be able to load a beam spectrum using spekpy\n",
      "SimpleGVXR 2.0.7 (2023-11-06T20:19:42) [Compiler: Microsoft Visual Studio] on Windows\n",
      "gVirtualXRay core library (gvxr) 2.0.7 (2023-11-06T20:19:41) [Compiler: Microsoft Visual Studio] on Windows\n"
     ]
    }
   ],
   "source": [
    "import os\n",
    "import numpy as np\n",
    "from gvxrPython3 import gvxr\n",
    "# from gvxrPython3 import json2gvxr\n",
    "import json2gvxr"
   ]
  },
  {
   "cell_type": "code",
   "execution_count": 2,
   "id": "60464d6b-c5fa-4593-989a-2c22272b7d4b",
   "metadata": {},
   "outputs": [],
   "source": [
    "current_folder = str(globals()['_dh'][0])\n",
    "data_path = \"25OctoberData/\"\n",
    "JSON_fname = current_folder + \"/\" + data_path + \"/simulation.json\""
   ]
  },
  {
   "cell_type": "code",
   "execution_count": 3,
   "id": "ac60860f-d05c-4fc6-bf18-e25827043f95",
   "metadata": {},
   "outputs": [
    {
     "name": "stdout",
     "output_type": "stream",
     "text": [
      "Create an OpenGL context: 800x600\n"
     ]
    }
   ],
   "source": [
    "# Create an OpenGL context\n",
    "# MS Windows\n",
    "if os.name == \"nt\":\n",
    "    json2gvxr.initGVXR(JSON_fname, \"OPENGL\")\n",
    "# MacOS\n",
    "elif str(os.uname()).find(\"Darwin\") >= 0:\n",
    "    json2gvxr.initGVXR(JSON_fname, \"OPENGL\")\n",
    "else:\n",
    "    json2gvxr.initGVXR(JSON_fname, \"OPENGL\")"
   ]
  },
  {
   "cell_type": "code",
   "execution_count": 4,
   "id": "2608ab84-6b93-4631-9ae1-dd392230c390",
   "metadata": {},
   "outputs": [
    {
     "name": "stdout",
     "output_type": "stream",
     "text": [
      "Set up the detector\n",
      "\tDetector position: [166.92100705616795, 5.539214960161393, 610.6291569055294, 'mm']\n",
      "\tDetector up vector: [0.0, -1.0, 0.0]\n",
      "\tNumber of pixels: [640, 480]\n",
      "\tDetector number of pixels: [640, 480]\n",
      "\tPixel spacing: [0.22999999523162842, 0.2300000031789144, 'mm']\n",
      "Set up the beam\n",
      "\tSource position: [-67.29211150858809, 181.75211882974276, -255.81059181375286, 'mm']\n",
      "\tSource shape: ParallelBeam\n"
     ]
    }
   ],
   "source": [
    "json2gvxr.initDetector(JSON_fname)\n",
    "json2gvxr.initSourceGeometry()\n",
    "json2gvxr.initSpectrum()\n",
    "json2gvxr.initSamples()\n",
    "\n",
    "gvxr.setZoom(311.3316345214844)\n",
    "gvxr.setSceneRotationMatrix((0.8873608708381653, -0.03796194866299629, 0.45950955152511597, 0.0, -0.12802009284496307, 0.9371330738067627, 0.32464298605918884, 0.0, -0.4429444968700409, -0.34690162539482117, 0.826717734336853, 0.0, 0.0, 0.0, 0.0, 1.0))"
   ]
  },
  {
   "cell_type": "code",
   "execution_count": 5,
   "id": "685aff64-d779-4e16-8e1c-253407adcb78",
   "metadata": {},
   "outputs": [],
   "source": [
    "identity_matrix = [\n",
    "    1, 0, 0, 0,\n",
    "    0, 1, 0, 0,\n",
    "    0, 0, 1, 0,\n",
    "    0, 0, 0, 1\n",
    "]"
   ]
  },
  {
   "cell_type": "code",
   "execution_count": 6,
   "id": "54ae9a38-14bb-4d49-b5d8-76e1930d578c",
   "metadata": {},
   "outputs": [],
   "source": [
    "x_fname       = current_folder + \"/\" + data_path + \"/x_best3.dat\"\n",
    "x = np.loadtxt(x_fname)\n",
    "\n",
    "\n",
    "\n",
    "gvxr.setLocalTransformationMatrix(\"root\", identity_matrix)\n",
    "\n",
    "#     # Reset transformations\n",
    "#     gvxr.setLocalTransformationMatrix(\"root\", identity_matrix)\n",
    "\n",
    "#     for i in range(gvxr.getNumberOfChildren(\"root\")):\n",
    "#         label = gvxr.getChildLabel(\"root\", i);\n",
    "#         gvxr.setLocalTransformationMatrix(label, identity_matrix)\n",
    "\n",
    "\n",
    "# # Move source, det, object using x\n",
    "# x_src = x[0]\n",
    "# y_src = x[1]\n",
    "# z_src = x[2]\n",
    "# gvxr.setSourcePosition(x_src, y_src, z_src, \"mm\")\n",
    "\n",
    "# x_det = x[3]\n",
    "# y_det = x[4]\n",
    "# z_det = x[5]\n",
    "# gvxr.setDetectorPosition(x_det, y_det, z_det, \"mm\")\n",
    "\n",
    "x_rot_axis_pos = x[6]\n",
    "y_rot_axis_pos = x[7]\n",
    "z_rot_axis_pos = x[8]\n",
    "\n",
    "x_obj = x[9]\n",
    "y_obj = x[10]\n",
    "z_obj = x[11]\n",
    "\n",
    "alpha_x = x[12]\n",
    "alpha_y = x[13]\n",
    "alpha_z = x[14]\n",
    "\n",
    "\n",
    "test_image = []\n",
    "\n",
    "# up_vector = gvxr.getDetectorUpVector();\n",
    "\n",
    "\n",
    "gvxr.setLocalTransformationMatrix(\"root\", identity_matrix)\n",
    "gvxr.translateNode(\"root\", x_rot_axis_pos, y_rot_axis_pos, z_rot_axis_pos, \"mm\") #6\n",
    "\n",
    "# Position the object on the turn table\n",
    "for i in range(gvxr.getNumberOfChildren(\"root\")):\n",
    "    label = gvxr.getChildLabel(\"root\", i);\n",
    "    gvxr.setLocalTransformationMatrix(label, identity_matrix)\n",
    "    gvxr.translateNode(label, x_obj, y_obj, z_obj, \"mm\")  #4\n",
    "    gvxr.rotateNode(label, alpha_x, 1, 0, 0)  #3\n",
    "    gvxr.rotateNode(label, alpha_y, 0, 1, 0)  #2\n",
    "    gvxr.rotateNode(label, alpha_z, 0, 0, 1)  #1\n",
    "    gvxr.applyCurrentLocalTransformation(label);"
   ]
  },
  {
   "cell_type": "code",
   "execution_count": 7,
   "id": "73407cc5-4184-4855-8fc5-0f839ab1d4e0",
   "metadata": {},
   "outputs": [],
   "source": [
    "gvxr.computeXRayImage();\n",
    "gvxr.renderLoop()\n",
    "\n",
    "gvxr.setLocalTransformationMatrix(\"root\", identity_matrix)"
   ]
  },
  {
   "cell_type": "code",
   "execution_count": 8,
   "id": "0d5b9068-3f9c-4976-a2cd-5a5bb07bb45b",
   "metadata": {},
   "outputs": [
    {
     "name": "stdout",
     "output_type": "stream",
     "text": [
      "Set up the CT Scan\n"
     ]
    }
   ],
   "source": [
    "json2gvxr.initScan()"
   ]
  },
  {
   "cell_type": "code",
   "execution_count": 9,
   "id": "88a66f7f-6d45-427b-8e33-c63cc3846b35",
   "metadata": {},
   "outputs": [],
   "source": [
    "angles = json2gvxr.doCTScan(verbose=0)"
   ]
  },
  {
   "cell_type": "code",
   "execution_count": null,
   "id": "bc6d4273-590d-4157-aa27-f00215e6e94f",
   "metadata": {},
   "outputs": [],
   "source": []
  }
 ],
 "metadata": {
  "kernelspec": {
   "display_name": "Python 3 (ipykernel)",
   "language": "python",
   "name": "python3"
  },
  "language_info": {
   "codemirror_mode": {
    "name": "ipython",
    "version": 3
   },
   "file_extension": ".py",
   "mimetype": "text/x-python",
   "name": "python",
   "nbconvert_exporter": "python",
   "pygments_lexer": "ipython3",
   "version": "3.8.11"
  }
 },
 "nbformat": 4,
 "nbformat_minor": 5
}
